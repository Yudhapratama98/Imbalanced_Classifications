{
  "cells": [
    {
      "cell_type": "markdown",
      "metadata": {
        "id": "pJSOFdk3sntb"
      },
      "source": [
        "## **Latihan Imbalanced Classification**"
      ]
    },
    {
      "cell_type": "markdown",
      "metadata": {
        "id": "s9N3Pm1Ssntj"
      },
      "source": [
        "### **Gunakan dataset stroke**\n",
        "\n",
        "1. Eksplor datasetnya terlebih dahulu.\n",
        "    - drop outlier gender = 'Other'\n",
        "2. Lakukan tahap pre-processing yang menurut kamu dibutuhkan untuk dataset ini.\n",
        "3. Target: 'stroke', features: gunakan feature yang menurut kamu berguna dalam pemodelan ini.\n",
        "4. Untuk pemodelan, gunakan model benchmark: Decision Tree\n",
        "5. Coba lakukan 3 skenario handling imbalance dataset\n",
        "    - Penalized (class_weight)\n",
        "    - Undersampling: RandomUnderSampler()\n",
        "    - Oversampling: SMOTE()\n",
        "6. Terlepas dari hasil terbaik dari 3 skenario di atas, coba lakukan hyperparameter tuning model dengan SMOTE (boleh dengan RandomizedSearch)\n",
        "7. Bandingkan hasil sebelum dan sesudah tuning"
      ]
    },
    {
      "cell_type": "markdown",
      "metadata": {
        "id": "xvqE3yHrsntq"
      },
      "source": [
        "## **Import libraries**"
      ]
    },
    {
      "cell_type": "code",
      "execution_count": null,
      "metadata": {
        "id": "p1jGSKlgsnts"
      },
      "outputs": [],
      "source": [
        "import numpy as np\n",
        "import pandas as pd\n",
        "import matplotlib.pyplot as plt\n",
        "import seaborn as sns\n",
        "\n",
        "from sklearn import metrics\n",
        "from sklearn.model_selection import train_test_split\n",
        "\n",
        "import category_encoders as ce\n",
        "from sklearn.preprocessing import OneHotEncoder\n",
        "from sklearn.compose import ColumnTransformer\n",
        "from sklearn.pipeline import Pipeline\n",
        "from sklearn.impute import SimpleImputer\n",
        "from sklearn.experimental import enable_iterative_imputer\n",
        "from sklearn.impute import IterativeImputer\n",
        "from sklearn.preprocessing import StandardScaler, RobustScaler, MinMaxScaler\n",
        "\n",
        "from sklearn.linear_model import LogisticRegression\n",
        "from sklearn.neighbors import KNeighborsClassifier\n",
        "from sklearn.tree import DecisionTreeClassifier\n",
        "from sklearn.model_selection import cross_val_score, StratifiedKFold\n",
        "from sklearn.metrics import accuracy_score, confusion_matrix, recall_score, precision_score, classification_report, f1_score\n",
        "from sklearn.metrics import roc_curve, roc_auc_score, plot_roc_curve, precision_recall_curve, average_precision_score, plot_precision_recall_curve\n",
        "\n",
        "from imblearn.over_sampling import RandomOverSampler, SMOTE\n",
        "from imblearn.under_sampling import RandomUnderSampler, NearMiss\n",
        "from imblearn.pipeline import Pipeline # SMOTE\n",
        "\n",
        "from sklearn.model_selection import GridSearchCV, RandomizedSearchCV\n",
        "\n",
        "import warnings\n",
        "warnings.filterwarnings('ignore')"
      ]
    },
    {
      "cell_type": "markdown",
      "source": [
        "* https://imbalanced-learn.org/stable/references/generated/imblearn.pipeline.Pipeline.html\n"
      ],
      "metadata": {
        "id": "EmmIYwBksWTE"
      }
    },
    {
      "cell_type": "code",
      "execution_count": null,
      "metadata": {
        "id": "xfZQUPoysntx",
        "outputId": "4ac5736f-de89-4150-dfa6-8a5fac8190f4"
      },
      "outputs": [
        {
          "data": {
            "text/html": [
              "<div>\n",
              "<style scoped>\n",
              "    .dataframe tbody tr th:only-of-type {\n",
              "        vertical-align: middle;\n",
              "    }\n",
              "\n",
              "    .dataframe tbody tr th {\n",
              "        vertical-align: top;\n",
              "    }\n",
              "\n",
              "    .dataframe thead th {\n",
              "        text-align: right;\n",
              "    }\n",
              "</style>\n",
              "<table border=\"1\" class=\"dataframe\">\n",
              "  <thead>\n",
              "    <tr style=\"text-align: right;\">\n",
              "      <th></th>\n",
              "      <th>id</th>\n",
              "      <th>gender</th>\n",
              "      <th>age</th>\n",
              "      <th>hypertension</th>\n",
              "      <th>heart_disease</th>\n",
              "      <th>ever_married</th>\n",
              "      <th>work_type</th>\n",
              "      <th>Residence_type</th>\n",
              "      <th>avg_glucose_level</th>\n",
              "      <th>bmi</th>\n",
              "      <th>smoking_status</th>\n",
              "      <th>stroke</th>\n",
              "    </tr>\n",
              "  </thead>\n",
              "  <tbody>\n",
              "    <tr>\n",
              "      <th>0</th>\n",
              "      <td>9046</td>\n",
              "      <td>Male</td>\n",
              "      <td>67.0</td>\n",
              "      <td>0</td>\n",
              "      <td>1</td>\n",
              "      <td>Yes</td>\n",
              "      <td>Private</td>\n",
              "      <td>Urban</td>\n",
              "      <td>228.69</td>\n",
              "      <td>36.6</td>\n",
              "      <td>formerly smoked</td>\n",
              "      <td>1</td>\n",
              "    </tr>\n",
              "    <tr>\n",
              "      <th>1</th>\n",
              "      <td>51676</td>\n",
              "      <td>Female</td>\n",
              "      <td>61.0</td>\n",
              "      <td>0</td>\n",
              "      <td>0</td>\n",
              "      <td>Yes</td>\n",
              "      <td>Self-employed</td>\n",
              "      <td>Rural</td>\n",
              "      <td>202.21</td>\n",
              "      <td>NaN</td>\n",
              "      <td>never smoked</td>\n",
              "      <td>1</td>\n",
              "    </tr>\n",
              "    <tr>\n",
              "      <th>2</th>\n",
              "      <td>31112</td>\n",
              "      <td>Male</td>\n",
              "      <td>80.0</td>\n",
              "      <td>0</td>\n",
              "      <td>1</td>\n",
              "      <td>Yes</td>\n",
              "      <td>Private</td>\n",
              "      <td>Rural</td>\n",
              "      <td>105.92</td>\n",
              "      <td>32.5</td>\n",
              "      <td>never smoked</td>\n",
              "      <td>1</td>\n",
              "    </tr>\n",
              "    <tr>\n",
              "      <th>3</th>\n",
              "      <td>60182</td>\n",
              "      <td>Female</td>\n",
              "      <td>49.0</td>\n",
              "      <td>0</td>\n",
              "      <td>0</td>\n",
              "      <td>Yes</td>\n",
              "      <td>Private</td>\n",
              "      <td>Urban</td>\n",
              "      <td>171.23</td>\n",
              "      <td>34.4</td>\n",
              "      <td>smokes</td>\n",
              "      <td>1</td>\n",
              "    </tr>\n",
              "    <tr>\n",
              "      <th>4</th>\n",
              "      <td>1665</td>\n",
              "      <td>Female</td>\n",
              "      <td>79.0</td>\n",
              "      <td>1</td>\n",
              "      <td>0</td>\n",
              "      <td>Yes</td>\n",
              "      <td>Self-employed</td>\n",
              "      <td>Rural</td>\n",
              "      <td>174.12</td>\n",
              "      <td>24.0</td>\n",
              "      <td>never smoked</td>\n",
              "      <td>1</td>\n",
              "    </tr>\n",
              "    <tr>\n",
              "      <th>...</th>\n",
              "      <td>...</td>\n",
              "      <td>...</td>\n",
              "      <td>...</td>\n",
              "      <td>...</td>\n",
              "      <td>...</td>\n",
              "      <td>...</td>\n",
              "      <td>...</td>\n",
              "      <td>...</td>\n",
              "      <td>...</td>\n",
              "      <td>...</td>\n",
              "      <td>...</td>\n",
              "      <td>...</td>\n",
              "    </tr>\n",
              "    <tr>\n",
              "      <th>5105</th>\n",
              "      <td>18234</td>\n",
              "      <td>Female</td>\n",
              "      <td>80.0</td>\n",
              "      <td>1</td>\n",
              "      <td>0</td>\n",
              "      <td>Yes</td>\n",
              "      <td>Private</td>\n",
              "      <td>Urban</td>\n",
              "      <td>83.75</td>\n",
              "      <td>NaN</td>\n",
              "      <td>never smoked</td>\n",
              "      <td>0</td>\n",
              "    </tr>\n",
              "    <tr>\n",
              "      <th>5106</th>\n",
              "      <td>44873</td>\n",
              "      <td>Female</td>\n",
              "      <td>81.0</td>\n",
              "      <td>0</td>\n",
              "      <td>0</td>\n",
              "      <td>Yes</td>\n",
              "      <td>Self-employed</td>\n",
              "      <td>Urban</td>\n",
              "      <td>125.20</td>\n",
              "      <td>40.0</td>\n",
              "      <td>never smoked</td>\n",
              "      <td>0</td>\n",
              "    </tr>\n",
              "    <tr>\n",
              "      <th>5107</th>\n",
              "      <td>19723</td>\n",
              "      <td>Female</td>\n",
              "      <td>35.0</td>\n",
              "      <td>0</td>\n",
              "      <td>0</td>\n",
              "      <td>Yes</td>\n",
              "      <td>Self-employed</td>\n",
              "      <td>Rural</td>\n",
              "      <td>82.99</td>\n",
              "      <td>30.6</td>\n",
              "      <td>never smoked</td>\n",
              "      <td>0</td>\n",
              "    </tr>\n",
              "    <tr>\n",
              "      <th>5108</th>\n",
              "      <td>37544</td>\n",
              "      <td>Male</td>\n",
              "      <td>51.0</td>\n",
              "      <td>0</td>\n",
              "      <td>0</td>\n",
              "      <td>Yes</td>\n",
              "      <td>Private</td>\n",
              "      <td>Rural</td>\n",
              "      <td>166.29</td>\n",
              "      <td>25.6</td>\n",
              "      <td>formerly smoked</td>\n",
              "      <td>0</td>\n",
              "    </tr>\n",
              "    <tr>\n",
              "      <th>5109</th>\n",
              "      <td>44679</td>\n",
              "      <td>Female</td>\n",
              "      <td>44.0</td>\n",
              "      <td>0</td>\n",
              "      <td>0</td>\n",
              "      <td>Yes</td>\n",
              "      <td>Govt_job</td>\n",
              "      <td>Urban</td>\n",
              "      <td>85.28</td>\n",
              "      <td>26.2</td>\n",
              "      <td>Unknown</td>\n",
              "      <td>0</td>\n",
              "    </tr>\n",
              "  </tbody>\n",
              "</table>\n",
              "<p>5110 rows × 12 columns</p>\n",
              "</div>"
            ],
            "text/plain": [
              "         id  gender   age  hypertension  heart_disease ever_married  \\\n",
              "0      9046    Male  67.0             0              1          Yes   \n",
              "1     51676  Female  61.0             0              0          Yes   \n",
              "2     31112    Male  80.0             0              1          Yes   \n",
              "3     60182  Female  49.0             0              0          Yes   \n",
              "4      1665  Female  79.0             1              0          Yes   \n",
              "...     ...     ...   ...           ...            ...          ...   \n",
              "5105  18234  Female  80.0             1              0          Yes   \n",
              "5106  44873  Female  81.0             0              0          Yes   \n",
              "5107  19723  Female  35.0             0              0          Yes   \n",
              "5108  37544    Male  51.0             0              0          Yes   \n",
              "5109  44679  Female  44.0             0              0          Yes   \n",
              "\n",
              "          work_type Residence_type  avg_glucose_level   bmi   smoking_status  \\\n",
              "0           Private          Urban             228.69  36.6  formerly smoked   \n",
              "1     Self-employed          Rural             202.21   NaN     never smoked   \n",
              "2           Private          Rural             105.92  32.5     never smoked   \n",
              "3           Private          Urban             171.23  34.4           smokes   \n",
              "4     Self-employed          Rural             174.12  24.0     never smoked   \n",
              "...             ...            ...                ...   ...              ...   \n",
              "5105        Private          Urban              83.75   NaN     never smoked   \n",
              "5106  Self-employed          Urban             125.20  40.0     never smoked   \n",
              "5107  Self-employed          Rural              82.99  30.6     never smoked   \n",
              "5108        Private          Rural             166.29  25.6  formerly smoked   \n",
              "5109       Govt_job          Urban              85.28  26.2          Unknown   \n",
              "\n",
              "      stroke  \n",
              "0          1  \n",
              "1          1  \n",
              "2          1  \n",
              "3          1  \n",
              "4          1  \n",
              "...      ...  \n",
              "5105       0  \n",
              "5106       0  \n",
              "5107       0  \n",
              "5108       0  \n",
              "5109       0  \n",
              "\n",
              "[5110 rows x 12 columns]"
            ]
          },
          "execution_count": 266,
          "metadata": {},
          "output_type": "execute_result"
        }
      ],
      "source": [
        "df = pd.read_csv('stroke.csv')\n",
        "df"
      ]
    },
    {
      "cell_type": "markdown",
      "metadata": {
        "id": "L2I9uBJYsnt0"
      },
      "source": [
        "## **Feature Information**\n",
        "\n",
        "- id: unique identifier\n",
        "- gender: \"Male\", \"Female\" or \"Other\"\n",
        "- age: age of the patient\n",
        "- hypertension: 0 if the patient doesn't have hypertension, 1 if the patient has hypertension\n",
        "- heart_disease: 0 if the patient doesn't have any heart diseases, 1 if the patient has a heart disease\n",
        "- ever_married: \"No\" or \"Yes\"\n",
        "- work_type: \"children\", \"Govt_jov\", \"Never_worked\", \"Private\" or \"Self-employed\"\n",
        "- Residence_type: \"Rural\" or \"Urban\"\n",
        "- avg_glucose_level: average glucose level in blood\n",
        "- bmi: body mass index\n",
        "- smoking_status: \"formerly smoked\", \"never smoked\", \"smokes\" or \"Unknown\"\n",
        "- stroke: 1 if the patient had a stroke or 0 if not *Note: \"Unknown\" in smoking_status means that the information is unavailable for this patient"
      ]
    },
    {
      "cell_type": "code",
      "execution_count": null,
      "metadata": {
        "id": "U5rGBMvBsnt2",
        "outputId": "9844c3ba-ceed-4dff-d0e4-bfee2771e897"
      },
      "outputs": [
        {
          "name": "stdout",
          "output_type": "stream",
          "text": [
            "<class 'pandas.core.frame.DataFrame'>\n",
            "RangeIndex: 5110 entries, 0 to 5109\n",
            "Data columns (total 12 columns):\n",
            " #   Column             Non-Null Count  Dtype  \n",
            "---  ------             --------------  -----  \n",
            " 0   id                 5110 non-null   int64  \n",
            " 1   gender             5110 non-null   object \n",
            " 2   age                5110 non-null   float64\n",
            " 3   hypertension       5110 non-null   int64  \n",
            " 4   heart_disease      5110 non-null   int64  \n",
            " 5   ever_married       5110 non-null   object \n",
            " 6   work_type          5110 non-null   object \n",
            " 7   Residence_type     5110 non-null   object \n",
            " 8   avg_glucose_level  5110 non-null   float64\n",
            " 9   bmi                4909 non-null   float64\n",
            " 10  smoking_status     5110 non-null   object \n",
            " 11  stroke             5110 non-null   int64  \n",
            "dtypes: float64(3), int64(4), object(5)\n",
            "memory usage: 479.2+ KB\n"
          ]
        }
      ],
      "source": [
        "df.info()"
      ]
    },
    {
      "cell_type": "code",
      "execution_count": null,
      "metadata": {
        "id": "mq3Dtd2dsnt4",
        "outputId": "2b723892-190f-4b7a-a003-59d46a7ce607"
      },
      "outputs": [
        {
          "data": {
            "text/plain": [
              "id                     0\n",
              "gender                 0\n",
              "age                    0\n",
              "hypertension           0\n",
              "heart_disease          0\n",
              "ever_married           0\n",
              "work_type              0\n",
              "Residence_type         0\n",
              "avg_glucose_level      0\n",
              "bmi                  201\n",
              "smoking_status         0\n",
              "stroke                 0\n",
              "dtype: int64"
            ]
          },
          "execution_count": 268,
          "metadata": {},
          "output_type": "execute_result"
        }
      ],
      "source": [
        "df.isna().sum()"
      ]
    },
    {
      "cell_type": "code",
      "execution_count": null,
      "metadata": {
        "id": "1ipDG_05snt6",
        "outputId": "39f8bd15-4e18-4270-ee0a-a4169845d34a"
      },
      "outputs": [
        {
          "data": {
            "text/html": [
              "<div>\n",
              "<style scoped>\n",
              "    .dataframe tbody tr th:only-of-type {\n",
              "        vertical-align: middle;\n",
              "    }\n",
              "\n",
              "    .dataframe tbody tr th {\n",
              "        vertical-align: top;\n",
              "    }\n",
              "\n",
              "    .dataframe thead th {\n",
              "        text-align: right;\n",
              "    }\n",
              "</style>\n",
              "<table border=\"1\" class=\"dataframe\">\n",
              "  <thead>\n",
              "    <tr style=\"text-align: right;\">\n",
              "      <th></th>\n",
              "      <th>id</th>\n",
              "      <th>gender</th>\n",
              "      <th>age</th>\n",
              "      <th>hypertension</th>\n",
              "      <th>heart_disease</th>\n",
              "      <th>ever_married</th>\n",
              "      <th>work_type</th>\n",
              "      <th>Residence_type</th>\n",
              "      <th>avg_glucose_level</th>\n",
              "      <th>bmi</th>\n",
              "      <th>smoking_status</th>\n",
              "      <th>stroke</th>\n",
              "    </tr>\n",
              "  </thead>\n",
              "  <tbody>\n",
              "    <tr>\n",
              "      <th>count</th>\n",
              "      <td>5110</td>\n",
              "      <td>5110</td>\n",
              "      <td>5110</td>\n",
              "      <td>5110</td>\n",
              "      <td>5110</td>\n",
              "      <td>5110</td>\n",
              "      <td>5110</td>\n",
              "      <td>5110</td>\n",
              "      <td>5110</td>\n",
              "      <td>4909</td>\n",
              "      <td>5110</td>\n",
              "      <td>5110</td>\n",
              "    </tr>\n",
              "    <tr>\n",
              "      <th>unique</th>\n",
              "      <td></td>\n",
              "      <td>3</td>\n",
              "      <td></td>\n",
              "      <td></td>\n",
              "      <td></td>\n",
              "      <td>2</td>\n",
              "      <td>5</td>\n",
              "      <td>2</td>\n",
              "      <td></td>\n",
              "      <td></td>\n",
              "      <td>4</td>\n",
              "      <td></td>\n",
              "    </tr>\n",
              "    <tr>\n",
              "      <th>top</th>\n",
              "      <td></td>\n",
              "      <td>Female</td>\n",
              "      <td></td>\n",
              "      <td></td>\n",
              "      <td></td>\n",
              "      <td>Yes</td>\n",
              "      <td>Private</td>\n",
              "      <td>Urban</td>\n",
              "      <td></td>\n",
              "      <td></td>\n",
              "      <td>never smoked</td>\n",
              "      <td></td>\n",
              "    </tr>\n",
              "    <tr>\n",
              "      <th>freq</th>\n",
              "      <td></td>\n",
              "      <td>2994</td>\n",
              "      <td></td>\n",
              "      <td></td>\n",
              "      <td></td>\n",
              "      <td>3353</td>\n",
              "      <td>2925</td>\n",
              "      <td>2596</td>\n",
              "      <td></td>\n",
              "      <td></td>\n",
              "      <td>1892</td>\n",
              "      <td></td>\n",
              "    </tr>\n",
              "    <tr>\n",
              "      <th>mean</th>\n",
              "      <td>36517.8</td>\n",
              "      <td></td>\n",
              "      <td>43.2266</td>\n",
              "      <td>0.097456</td>\n",
              "      <td>0.0540117</td>\n",
              "      <td></td>\n",
              "      <td></td>\n",
              "      <td></td>\n",
              "      <td>106.148</td>\n",
              "      <td>28.8932</td>\n",
              "      <td></td>\n",
              "      <td>0.048728</td>\n",
              "    </tr>\n",
              "    <tr>\n",
              "      <th>std</th>\n",
              "      <td>21161.7</td>\n",
              "      <td></td>\n",
              "      <td>22.6126</td>\n",
              "      <td>0.296607</td>\n",
              "      <td>0.226063</td>\n",
              "      <td></td>\n",
              "      <td></td>\n",
              "      <td></td>\n",
              "      <td>45.2836</td>\n",
              "      <td>7.85407</td>\n",
              "      <td></td>\n",
              "      <td>0.21532</td>\n",
              "    </tr>\n",
              "    <tr>\n",
              "      <th>min</th>\n",
              "      <td>67</td>\n",
              "      <td></td>\n",
              "      <td>0.08</td>\n",
              "      <td>0</td>\n",
              "      <td>0</td>\n",
              "      <td></td>\n",
              "      <td></td>\n",
              "      <td></td>\n",
              "      <td>55.12</td>\n",
              "      <td>10.3</td>\n",
              "      <td></td>\n",
              "      <td>0</td>\n",
              "    </tr>\n",
              "    <tr>\n",
              "      <th>25%</th>\n",
              "      <td>17741.2</td>\n",
              "      <td></td>\n",
              "      <td>25</td>\n",
              "      <td>0</td>\n",
              "      <td>0</td>\n",
              "      <td></td>\n",
              "      <td></td>\n",
              "      <td></td>\n",
              "      <td>77.245</td>\n",
              "      <td>23.5</td>\n",
              "      <td></td>\n",
              "      <td>0</td>\n",
              "    </tr>\n",
              "    <tr>\n",
              "      <th>50%</th>\n",
              "      <td>36932</td>\n",
              "      <td></td>\n",
              "      <td>45</td>\n",
              "      <td>0</td>\n",
              "      <td>0</td>\n",
              "      <td></td>\n",
              "      <td></td>\n",
              "      <td></td>\n",
              "      <td>91.885</td>\n",
              "      <td>28.1</td>\n",
              "      <td></td>\n",
              "      <td>0</td>\n",
              "    </tr>\n",
              "    <tr>\n",
              "      <th>75%</th>\n",
              "      <td>54682</td>\n",
              "      <td></td>\n",
              "      <td>61</td>\n",
              "      <td>0</td>\n",
              "      <td>0</td>\n",
              "      <td></td>\n",
              "      <td></td>\n",
              "      <td></td>\n",
              "      <td>114.09</td>\n",
              "      <td>33.1</td>\n",
              "      <td></td>\n",
              "      <td>0</td>\n",
              "    </tr>\n",
              "    <tr>\n",
              "      <th>max</th>\n",
              "      <td>72940</td>\n",
              "      <td></td>\n",
              "      <td>82</td>\n",
              "      <td>1</td>\n",
              "      <td>1</td>\n",
              "      <td></td>\n",
              "      <td></td>\n",
              "      <td></td>\n",
              "      <td>271.74</td>\n",
              "      <td>97.6</td>\n",
              "      <td></td>\n",
              "      <td>1</td>\n",
              "    </tr>\n",
              "  </tbody>\n",
              "</table>\n",
              "</div>"
            ],
            "text/plain": [
              "             id  gender      age hypertension heart_disease ever_married  \\\n",
              "count      5110    5110     5110         5110          5110         5110   \n",
              "unique                3                                                2   \n",
              "top              Female                                              Yes   \n",
              "freq               2994                                             3353   \n",
              "mean    36517.8          43.2266     0.097456     0.0540117                \n",
              "std     21161.7          22.6126     0.296607      0.226063                \n",
              "min          67             0.08            0             0                \n",
              "25%     17741.2               25            0             0                \n",
              "50%       36932               45            0             0                \n",
              "75%       54682               61            0             0                \n",
              "max       72940               82            1             1                \n",
              "\n",
              "       work_type Residence_type avg_glucose_level      bmi smoking_status  \\\n",
              "count       5110           5110              5110     4909           5110   \n",
              "unique         5              2                                         4   \n",
              "top      Private          Urban                              never smoked   \n",
              "freq        2925           2596                                      1892   \n",
              "mean                                      106.148  28.8932                  \n",
              "std                                       45.2836  7.85407                  \n",
              "min                                         55.12     10.3                  \n",
              "25%                                        77.245     23.5                  \n",
              "50%                                        91.885     28.1                  \n",
              "75%                                        114.09     33.1                  \n",
              "max                                        271.74     97.6                  \n",
              "\n",
              "          stroke  \n",
              "count       5110  \n",
              "unique            \n",
              "top               \n",
              "freq              \n",
              "mean    0.048728  \n",
              "std      0.21532  \n",
              "min            0  \n",
              "25%            0  \n",
              "50%            0  \n",
              "75%            0  \n",
              "max            1  "
            ]
          },
          "execution_count": 269,
          "metadata": {},
          "output_type": "execute_result"
        }
      ],
      "source": [
        "df.describe(include='all').replace(np.NaN,'')"
      ]
    },
    {
      "cell_type": "markdown",
      "metadata": {
        "id": "XZlpgoISsnuI"
      },
      "source": [
        "## **EDA**"
      ]
    },
    {
      "cell_type": "code",
      "execution_count": null,
      "metadata": {
        "id": "8EYWDVWFsnuX",
        "outputId": "111740b5-fc85-497d-a8b9-9f1720257efd"
      },
      "outputs": [
        {
          "data": {
            "text/plain": [
              "['gender', 'ever_married', 'work_type', 'Residence_type', 'smoking_status']"
            ]
          },
          "execution_count": 270,
          "metadata": {},
          "output_type": "execute_result"
        }
      ],
      "source": [
        "cat_features = [feature for feature in df.columns if (df[feature].dtypes == 'O')]\n",
        "cat_features"
      ]
    },
    {
      "cell_type": "code",
      "execution_count": null,
      "metadata": {
        "id": "adCUvGf2snud",
        "outputId": "0101541a-e8b0-4579-81f0-27fba81ae0ea"
      },
      "outputs": [
        {
          "name": "stdout",
          "output_type": "stream",
          "text": [
            "Total unique values in gender:  3\n",
            "Unique values:  ['Male' 'Female' 'Other']\n",
            "\n",
            "Total unique values in ever_married:  2\n",
            "Unique values:  ['Yes' 'No']\n",
            "\n",
            "Total unique values in work_type:  5\n",
            "Unique values:  ['Private' 'Self-employed' 'Govt_job' 'children' 'Never_worked']\n",
            "\n",
            "Total unique values in Residence_type:  2\n",
            "Unique values:  ['Urban' 'Rural']\n",
            "\n",
            "Total unique values in smoking_status:  4\n",
            "Unique values:  ['formerly smoked' 'never smoked' 'smokes' 'Unknown']\n",
            "\n"
          ]
        }
      ],
      "source": [
        "for i in cat_features:\n",
        "    print(f'Total unique values in {i}: ', df[i].nunique())\n",
        "    print(f'Unique values: ', df[i].unique())\n",
        "    print()"
      ]
    },
    {
      "cell_type": "code",
      "execution_count": null,
      "metadata": {
        "id": "xUXe7_Lzsnus",
        "outputId": "f503ce07-de7b-40c9-9407-cd7b34c2eec6"
      },
      "outputs": [
        {
          "name": "stdout",
          "output_type": "stream",
          "text": [
            "Female    2994\n",
            "Male      2115\n",
            "Other        1\n",
            "Name: gender, dtype: int64\n",
            "\n",
            "Yes    3353\n",
            "No     1757\n",
            "Name: ever_married, dtype: int64\n",
            "\n",
            "Private          2925\n",
            "Self-employed     819\n",
            "children          687\n",
            "Govt_job          657\n",
            "Never_worked       22\n",
            "Name: work_type, dtype: int64\n",
            "\n",
            "Urban    2596\n",
            "Rural    2514\n",
            "Name: Residence_type, dtype: int64\n",
            "\n",
            "never smoked       1892\n",
            "Unknown            1544\n",
            "formerly smoked     885\n",
            "smokes              789\n",
            "Name: smoking_status, dtype: int64\n",
            "\n"
          ]
        }
      ],
      "source": [
        "for i in cat_features:\n",
        "    print(df[i].value_counts())\n",
        "    print()"
      ]
    },
    {
      "cell_type": "code",
      "execution_count": null,
      "metadata": {
        "id": "vppDZH7ssnuu",
        "outputId": "e36a5060-2d51-4897-ec5f-0ed71ef5a380"
      },
      "outputs": [
        {
          "data": {
            "text/html": [
              "<div>\n",
              "<style scoped>\n",
              "    .dataframe tbody tr th:only-of-type {\n",
              "        vertical-align: middle;\n",
              "    }\n",
              "\n",
              "    .dataframe tbody tr th {\n",
              "        vertical-align: top;\n",
              "    }\n",
              "\n",
              "    .dataframe thead th {\n",
              "        text-align: right;\n",
              "    }\n",
              "</style>\n",
              "<table border=\"1\" class=\"dataframe\">\n",
              "  <thead>\n",
              "    <tr style=\"text-align: right;\">\n",
              "      <th></th>\n",
              "      <th>id</th>\n",
              "      <th>gender</th>\n",
              "      <th>age</th>\n",
              "      <th>hypertension</th>\n",
              "      <th>heart_disease</th>\n",
              "      <th>ever_married</th>\n",
              "      <th>work_type</th>\n",
              "      <th>Residence_type</th>\n",
              "      <th>avg_glucose_level</th>\n",
              "      <th>bmi</th>\n",
              "      <th>smoking_status</th>\n",
              "      <th>stroke</th>\n",
              "    </tr>\n",
              "  </thead>\n",
              "  <tbody>\n",
              "    <tr>\n",
              "      <th>3116</th>\n",
              "      <td>56156</td>\n",
              "      <td>Other</td>\n",
              "      <td>26.0</td>\n",
              "      <td>0</td>\n",
              "      <td>0</td>\n",
              "      <td>No</td>\n",
              "      <td>Private</td>\n",
              "      <td>Rural</td>\n",
              "      <td>143.33</td>\n",
              "      <td>22.4</td>\n",
              "      <td>formerly smoked</td>\n",
              "      <td>0</td>\n",
              "    </tr>\n",
              "  </tbody>\n",
              "</table>\n",
              "</div>"
            ],
            "text/plain": [
              "         id gender   age  hypertension  heart_disease ever_married work_type  \\\n",
              "3116  56156  Other  26.0             0              0           No   Private   \n",
              "\n",
              "     Residence_type  avg_glucose_level   bmi   smoking_status  stroke  \n",
              "3116          Rural             143.33  22.4  formerly smoked       0  "
            ]
          },
          "execution_count": 273,
          "metadata": {},
          "output_type": "execute_result"
        }
      ],
      "source": [
        "df[df['gender'] == 'Other']"
      ]
    },
    {
      "cell_type": "code",
      "execution_count": null,
      "metadata": {
        "id": "PWM9hewasnuw"
      },
      "outputs": [],
      "source": [
        "# Drop 'other' in gender\n",
        "df.drop(index=3116, inplace=True)"
      ]
    },
    {
      "cell_type": "code",
      "execution_count": null,
      "metadata": {
        "id": "vRxoTJ2csnu2",
        "outputId": "c0b7f06c-4aa5-4531-eb5e-6264e04ceffb"
      },
      "outputs": [
        {
          "data": {
            "text/html": [
              "<div>\n",
              "<style scoped>\n",
              "    .dataframe tbody tr th:only-of-type {\n",
              "        vertical-align: middle;\n",
              "    }\n",
              "\n",
              "    .dataframe tbody tr th {\n",
              "        vertical-align: top;\n",
              "    }\n",
              "\n",
              "    .dataframe thead th {\n",
              "        text-align: right;\n",
              "    }\n",
              "</style>\n",
              "<table border=\"1\" class=\"dataframe\">\n",
              "  <thead>\n",
              "    <tr style=\"text-align: right;\">\n",
              "      <th></th>\n",
              "      <th>id</th>\n",
              "      <th>gender</th>\n",
              "      <th>age</th>\n",
              "      <th>hypertension</th>\n",
              "      <th>heart_disease</th>\n",
              "      <th>ever_married</th>\n",
              "      <th>work_type</th>\n",
              "      <th>Residence_type</th>\n",
              "      <th>avg_glucose_level</th>\n",
              "      <th>bmi</th>\n",
              "      <th>smoking_status</th>\n",
              "      <th>stroke</th>\n",
              "    </tr>\n",
              "  </thead>\n",
              "  <tbody>\n",
              "  </tbody>\n",
              "</table>\n",
              "</div>"
            ],
            "text/plain": [
              "Empty DataFrame\n",
              "Columns: [id, gender, age, hypertension, heart_disease, ever_married, work_type, Residence_type, avg_glucose_level, bmi, smoking_status, stroke]\n",
              "Index: []"
            ]
          },
          "execution_count": 275,
          "metadata": {},
          "output_type": "execute_result"
        }
      ],
      "source": [
        "df[df['gender'] == 'Other']\n"
      ]
    },
    {
      "cell_type": "code",
      "execution_count": null,
      "metadata": {
        "id": "uBzFnQrlsnu6",
        "outputId": "b02424a4-d86c-4323-abd6-a20b870c6c01"
      },
      "outputs": [
        {
          "data": {
            "text/html": [
              "<div>\n",
              "<style scoped>\n",
              "    .dataframe tbody tr th:only-of-type {\n",
              "        vertical-align: middle;\n",
              "    }\n",
              "\n",
              "    .dataframe tbody tr th {\n",
              "        vertical-align: top;\n",
              "    }\n",
              "\n",
              "    .dataframe thead th {\n",
              "        text-align: right;\n",
              "    }\n",
              "</style>\n",
              "<table border=\"1\" class=\"dataframe\">\n",
              "  <thead>\n",
              "    <tr style=\"text-align: right;\">\n",
              "      <th></th>\n",
              "      <th>id</th>\n",
              "      <th>gender</th>\n",
              "      <th>age</th>\n",
              "      <th>hypertension</th>\n",
              "      <th>heart_disease</th>\n",
              "      <th>ever_married</th>\n",
              "      <th>work_type</th>\n",
              "      <th>Residence_type</th>\n",
              "      <th>avg_glucose_level</th>\n",
              "      <th>bmi</th>\n",
              "      <th>smoking_status</th>\n",
              "      <th>stroke</th>\n",
              "    </tr>\n",
              "  </thead>\n",
              "  <tbody>\n",
              "    <tr>\n",
              "      <th>0</th>\n",
              "      <td>9046</td>\n",
              "      <td>Male</td>\n",
              "      <td>67.0</td>\n",
              "      <td>0</td>\n",
              "      <td>1</td>\n",
              "      <td>Yes</td>\n",
              "      <td>Private</td>\n",
              "      <td>Urban</td>\n",
              "      <td>228.69</td>\n",
              "      <td>36.6</td>\n",
              "      <td>formerly smoked</td>\n",
              "      <td>1</td>\n",
              "    </tr>\n",
              "    <tr>\n",
              "      <th>1</th>\n",
              "      <td>51676</td>\n",
              "      <td>Female</td>\n",
              "      <td>61.0</td>\n",
              "      <td>0</td>\n",
              "      <td>0</td>\n",
              "      <td>Yes</td>\n",
              "      <td>Self-employed</td>\n",
              "      <td>Rural</td>\n",
              "      <td>202.21</td>\n",
              "      <td>NaN</td>\n",
              "      <td>never smoked</td>\n",
              "      <td>1</td>\n",
              "    </tr>\n",
              "    <tr>\n",
              "      <th>2</th>\n",
              "      <td>31112</td>\n",
              "      <td>Male</td>\n",
              "      <td>80.0</td>\n",
              "      <td>0</td>\n",
              "      <td>1</td>\n",
              "      <td>Yes</td>\n",
              "      <td>Private</td>\n",
              "      <td>Rural</td>\n",
              "      <td>105.92</td>\n",
              "      <td>32.5</td>\n",
              "      <td>never smoked</td>\n",
              "      <td>1</td>\n",
              "    </tr>\n",
              "    <tr>\n",
              "      <th>3</th>\n",
              "      <td>60182</td>\n",
              "      <td>Female</td>\n",
              "      <td>49.0</td>\n",
              "      <td>0</td>\n",
              "      <td>0</td>\n",
              "      <td>Yes</td>\n",
              "      <td>Private</td>\n",
              "      <td>Urban</td>\n",
              "      <td>171.23</td>\n",
              "      <td>34.4</td>\n",
              "      <td>smokes</td>\n",
              "      <td>1</td>\n",
              "    </tr>\n",
              "    <tr>\n",
              "      <th>4</th>\n",
              "      <td>1665</td>\n",
              "      <td>Female</td>\n",
              "      <td>79.0</td>\n",
              "      <td>1</td>\n",
              "      <td>0</td>\n",
              "      <td>Yes</td>\n",
              "      <td>Self-employed</td>\n",
              "      <td>Rural</td>\n",
              "      <td>174.12</td>\n",
              "      <td>24.0</td>\n",
              "      <td>never smoked</td>\n",
              "      <td>1</td>\n",
              "    </tr>\n",
              "  </tbody>\n",
              "</table>\n",
              "</div>"
            ],
            "text/plain": [
              "      id  gender   age  hypertension  heart_disease ever_married  \\\n",
              "0   9046    Male  67.0             0              1          Yes   \n",
              "1  51676  Female  61.0             0              0          Yes   \n",
              "2  31112    Male  80.0             0              1          Yes   \n",
              "3  60182  Female  49.0             0              0          Yes   \n",
              "4   1665  Female  79.0             1              0          Yes   \n",
              "\n",
              "       work_type Residence_type  avg_glucose_level   bmi   smoking_status  \\\n",
              "0        Private          Urban             228.69  36.6  formerly smoked   \n",
              "1  Self-employed          Rural             202.21   NaN     never smoked   \n",
              "2        Private          Rural             105.92  32.5     never smoked   \n",
              "3        Private          Urban             171.23  34.4           smokes   \n",
              "4  Self-employed          Rural             174.12  24.0     never smoked   \n",
              "\n",
              "   stroke  \n",
              "0       1  \n",
              "1       1  \n",
              "2       1  \n",
              "3       1  \n",
              "4       1  "
            ]
          },
          "execution_count": 276,
          "metadata": {},
          "output_type": "execute_result"
        }
      ],
      "source": [
        "df.head()"
      ]
    },
    {
      "cell_type": "code",
      "execution_count": null,
      "metadata": {
        "id": "MrfKRQB8snu9"
      },
      "outputs": [],
      "source": []
    },
    {
      "cell_type": "code",
      "execution_count": null,
      "metadata": {
        "id": "uVD4O_4vsnu-",
        "outputId": "d0c78450-0955-4d68-88d5-de6dbc47c515"
      },
      "outputs": [
        {
          "data": {
            "text/plain": [
              "['id',\n",
              " 'age',\n",
              " 'hypertension',\n",
              " 'heart_disease',\n",
              " 'avg_glucose_level',\n",
              " 'bmi',\n",
              " 'stroke']"
            ]
          },
          "execution_count": 277,
          "metadata": {},
          "output_type": "execute_result"
        }
      ],
      "source": [
        "num_features = list(df.describe().columns)\n",
        "num_features"
      ]
    },
    {
      "cell_type": "code",
      "execution_count": null,
      "metadata": {
        "id": "VAtavUr7snvA",
        "outputId": "2d72b059-fd3f-437a-9b6c-43e4f4b3d775"
      },
      "outputs": [
        {
          "data": {
            "text/html": [
              "<div>\n",
              "<style scoped>\n",
              "    .dataframe tbody tr th:only-of-type {\n",
              "        vertical-align: middle;\n",
              "    }\n",
              "\n",
              "    .dataframe tbody tr th {\n",
              "        vertical-align: top;\n",
              "    }\n",
              "\n",
              "    .dataframe thead th {\n",
              "        text-align: right;\n",
              "    }\n",
              "</style>\n",
              "<table border=\"1\" class=\"dataframe\">\n",
              "  <thead>\n",
              "    <tr style=\"text-align: right;\">\n",
              "      <th></th>\n",
              "      <th>gender</th>\n",
              "      <th>heart_disease</th>\n",
              "      <th>hypertension</th>\n",
              "    </tr>\n",
              "  </thead>\n",
              "  <tbody>\n",
              "    <tr>\n",
              "      <th>0</th>\n",
              "      <td>Female</td>\n",
              "      <td>2994</td>\n",
              "      <td>2994</td>\n",
              "    </tr>\n",
              "    <tr>\n",
              "      <th>1</th>\n",
              "      <td>Male</td>\n",
              "      <td>2115</td>\n",
              "      <td>2115</td>\n",
              "    </tr>\n",
              "  </tbody>\n",
              "</table>\n",
              "</div>"
            ],
            "text/plain": [
              "   gender  heart_disease  hypertension\n",
              "0  Female           2994          2994\n",
              "1    Male           2115          2115"
            ]
          },
          "execution_count": 279,
          "metadata": {},
          "output_type": "execute_result"
        }
      ],
      "source": [
        "filtering = df.filter(['gender','heart_disease','hypertension'])\n",
        "suffer_gender = filtering.groupby('gender').count().reset_index()\n",
        "suffer_gender"
      ]
    },
    {
      "cell_type": "code",
      "execution_count": null,
      "metadata": {
        "id": "Hda8IsSfsnvB",
        "outputId": "0f957698-8046-4a25-9649-fd3bcd231a32"
      },
      "outputs": [
        {
          "data": {
            "image/png": "[encoded data removed]",
            "text/plain": [
              "<Figure size 432x288 with 2 Axes>"
            ]
          },
          "metadata": {
            "needs_background": "light"
          },
          "output_type": "display_data"
        }
      ],
      "source": [
        "fid, ax = plt.subplots(1, 2)\n",
        "\n",
        "ax1 = sns.barplot(data=df, x='gender', y='heart_disease', ax=ax[0])\n",
        "ax2 = sns.barplot(data=df, x='gender', y='hypertension', ax=ax[1])\n",
        "\n",
        "plt.tight_layout()"
      ]
    },
    {
      "cell_type": "code",
      "execution_count": null,
      "metadata": {
        "id": "Nm9ZmmD7snvB",
        "outputId": "4331ab11-d497-4164-82d2-40310b9c9321"
      },
      "outputs": [
        {
          "data": {
            "image/png": "[encoded data removed]",
            "text/plain": [
              "<Figure size 1296x288 with 7 Axes>"
            ]
          },
          "metadata": {
            "needs_background": "light"
          },
          "output_type": "display_data"
        }
      ],
      "source": [
        "fig, ax = plt.subplots(1, len(num_features), figsize=(18,4))\n",
        "\n",
        "for i in range(len(num_features)):\n",
        "    sns.barplot(data=df, x='stroke', y=num_features[i], ax=ax[i])\n",
        "    plt.tight_layout()\n"
      ]
    },
    {
      "cell_type": "code",
      "execution_count": null,
      "metadata": {
        "id": "-XnVr3VgsnvE",
        "outputId": "e8958dfd-cc4b-4751-eabe-49463c40e570"
      },
      "outputs": [
        {
          "data": {
            "text/plain": [
              "0    4860\n",
              "1     249\n",
              "Name: stroke, dtype: int64"
            ]
          },
          "execution_count": 282,
          "metadata": {},
          "output_type": "execute_result"
        }
      ],
      "source": [
        "# imbalance dataset\n",
        "df['stroke'].value_counts()"
      ]
    },
    {
      "cell_type": "code",
      "execution_count": null,
      "metadata": {
        "id": "W9ymtBr3snvJ",
        "outputId": "f88efc5d-f866-4295-950c-808827929bec"
      },
      "outputs": [
        {
          "data": {
            "text/plain": [
              "0    95.126248\n",
              "1     4.873752\n",
              "Name: stroke, dtype: float64"
            ]
          },
          "execution_count": 283,
          "metadata": {},
          "output_type": "execute_result"
        }
      ],
      "source": [
        "# imbalance dataset (in percent)\n",
        "df['stroke'].value_counts()/len(df['stroke'])*100"
      ]
    },
    {
      "cell_type": "code",
      "execution_count": null,
      "metadata": {
        "id": "IHHknaFhsnvL"
      },
      "outputs": [],
      "source": []
    },
    {
      "cell_type": "markdown",
      "metadata": {
        "id": "5mXppP-LsnvL"
      },
      "source": [
        "## **Drop unused column**\n",
        "column 'id' hanya berupa urutan nomor, tidak akan menentukan stroke"
      ]
    },
    {
      "cell_type": "code",
      "execution_count": null,
      "metadata": {
        "id": "QxwDTzYHsnvN",
        "outputId": "3d2cc04f-0a7a-413b-e0d9-ee9a6b325619"
      },
      "outputs": [
        {
          "data": {
            "text/html": [
              "<div>\n",
              "<style scoped>\n",
              "    .dataframe tbody tr th:only-of-type {\n",
              "        vertical-align: middle;\n",
              "    }\n",
              "\n",
              "    .dataframe tbody tr th {\n",
              "        vertical-align: top;\n",
              "    }\n",
              "\n",
              "    .dataframe thead th {\n",
              "        text-align: right;\n",
              "    }\n",
              "</style>\n",
              "<table border=\"1\" class=\"dataframe\">\n",
              "  <thead>\n",
              "    <tr style=\"text-align: right;\">\n",
              "      <th></th>\n",
              "      <th>gender</th>\n",
              "      <th>age</th>\n",
              "      <th>hypertension</th>\n",
              "      <th>heart_disease</th>\n",
              "      <th>ever_married</th>\n",
              "      <th>work_type</th>\n",
              "      <th>Residence_type</th>\n",
              "      <th>avg_glucose_level</th>\n",
              "      <th>bmi</th>\n",
              "      <th>smoking_status</th>\n",
              "      <th>stroke</th>\n",
              "    </tr>\n",
              "  </thead>\n",
              "  <tbody>\n",
              "    <tr>\n",
              "      <th>0</th>\n",
              "      <td>Male</td>\n",
              "      <td>67.0</td>\n",
              "      <td>0</td>\n",
              "      <td>1</td>\n",
              "      <td>Yes</td>\n",
              "      <td>Private</td>\n",
              "      <td>Urban</td>\n",
              "      <td>228.69</td>\n",
              "      <td>36.6</td>\n",
              "      <td>formerly smoked</td>\n",
              "      <td>1</td>\n",
              "    </tr>\n",
              "    <tr>\n",
              "      <th>1</th>\n",
              "      <td>Female</td>\n",
              "      <td>61.0</td>\n",
              "      <td>0</td>\n",
              "      <td>0</td>\n",
              "      <td>Yes</td>\n",
              "      <td>Self-employed</td>\n",
              "      <td>Rural</td>\n",
              "      <td>202.21</td>\n",
              "      <td>NaN</td>\n",
              "      <td>never smoked</td>\n",
              "      <td>1</td>\n",
              "    </tr>\n",
              "    <tr>\n",
              "      <th>2</th>\n",
              "      <td>Male</td>\n",
              "      <td>80.0</td>\n",
              "      <td>0</td>\n",
              "      <td>1</td>\n",
              "      <td>Yes</td>\n",
              "      <td>Private</td>\n",
              "      <td>Rural</td>\n",
              "      <td>105.92</td>\n",
              "      <td>32.5</td>\n",
              "      <td>never smoked</td>\n",
              "      <td>1</td>\n",
              "    </tr>\n",
              "    <tr>\n",
              "      <th>3</th>\n",
              "      <td>Female</td>\n",
              "      <td>49.0</td>\n",
              "      <td>0</td>\n",
              "      <td>0</td>\n",
              "      <td>Yes</td>\n",
              "      <td>Private</td>\n",
              "      <td>Urban</td>\n",
              "      <td>171.23</td>\n",
              "      <td>34.4</td>\n",
              "      <td>smokes</td>\n",
              "      <td>1</td>\n",
              "    </tr>\n",
              "    <tr>\n",
              "      <th>4</th>\n",
              "      <td>Female</td>\n",
              "      <td>79.0</td>\n",
              "      <td>1</td>\n",
              "      <td>0</td>\n",
              "      <td>Yes</td>\n",
              "      <td>Self-employed</td>\n",
              "      <td>Rural</td>\n",
              "      <td>174.12</td>\n",
              "      <td>24.0</td>\n",
              "      <td>never smoked</td>\n",
              "      <td>1</td>\n",
              "    </tr>\n",
              "    <tr>\n",
              "      <th>...</th>\n",
              "      <td>...</td>\n",
              "      <td>...</td>\n",
              "      <td>...</td>\n",
              "      <td>...</td>\n",
              "      <td>...</td>\n",
              "      <td>...</td>\n",
              "      <td>...</td>\n",
              "      <td>...</td>\n",
              "      <td>...</td>\n",
              "      <td>...</td>\n",
              "      <td>...</td>\n",
              "    </tr>\n",
              "    <tr>\n",
              "      <th>5105</th>\n",
              "      <td>Female</td>\n",
              "      <td>80.0</td>\n",
              "      <td>1</td>\n",
              "      <td>0</td>\n",
              "      <td>Yes</td>\n",
              "      <td>Private</td>\n",
              "      <td>Urban</td>\n",
              "      <td>83.75</td>\n",
              "      <td>NaN</td>\n",
              "      <td>never smoked</td>\n",
              "      <td>0</td>\n",
              "    </tr>\n",
              "    <tr>\n",
              "      <th>5106</th>\n",
              "      <td>Female</td>\n",
              "      <td>81.0</td>\n",
              "      <td>0</td>\n",
              "      <td>0</td>\n",
              "      <td>Yes</td>\n",
              "      <td>Self-employed</td>\n",
              "      <td>Urban</td>\n",
              "      <td>125.20</td>\n",
              "      <td>40.0</td>\n",
              "      <td>never smoked</td>\n",
              "      <td>0</td>\n",
              "    </tr>\n",
              "    <tr>\n",
              "      <th>5107</th>\n",
              "      <td>Female</td>\n",
              "      <td>35.0</td>\n",
              "      <td>0</td>\n",
              "      <td>0</td>\n",
              "      <td>Yes</td>\n",
              "      <td>Self-employed</td>\n",
              "      <td>Rural</td>\n",
              "      <td>82.99</td>\n",
              "      <td>30.6</td>\n",
              "      <td>never smoked</td>\n",
              "      <td>0</td>\n",
              "    </tr>\n",
              "    <tr>\n",
              "      <th>5108</th>\n",
              "      <td>Male</td>\n",
              "      <td>51.0</td>\n",
              "      <td>0</td>\n",
              "      <td>0</td>\n",
              "      <td>Yes</td>\n",
              "      <td>Private</td>\n",
              "      <td>Rural</td>\n",
              "      <td>166.29</td>\n",
              "      <td>25.6</td>\n",
              "      <td>formerly smoked</td>\n",
              "      <td>0</td>\n",
              "    </tr>\n",
              "    <tr>\n",
              "      <th>5109</th>\n",
              "      <td>Female</td>\n",
              "      <td>44.0</td>\n",
              "      <td>0</td>\n",
              "      <td>0</td>\n",
              "      <td>Yes</td>\n",
              "      <td>Govt_job</td>\n",
              "      <td>Urban</td>\n",
              "      <td>85.28</td>\n",
              "      <td>26.2</td>\n",
              "      <td>Unknown</td>\n",
              "      <td>0</td>\n",
              "    </tr>\n",
              "  </tbody>\n",
              "</table>\n",
              "<p>5109 rows × 11 columns</p>\n",
              "</div>"
            ],
            "text/plain": [
              "      gender   age  hypertension  heart_disease ever_married      work_type  \\\n",
              "0       Male  67.0             0              1          Yes        Private   \n",
              "1     Female  61.0             0              0          Yes  Self-employed   \n",
              "2       Male  80.0             0              1          Yes        Private   \n",
              "3     Female  49.0             0              0          Yes        Private   \n",
              "4     Female  79.0             1              0          Yes  Self-employed   \n",
              "...      ...   ...           ...            ...          ...            ...   \n",
              "5105  Female  80.0             1              0          Yes        Private   \n",
              "5106  Female  81.0             0              0          Yes  Self-employed   \n",
              "5107  Female  35.0             0              0          Yes  Self-employed   \n",
              "5108    Male  51.0             0              0          Yes        Private   \n",
              "5109  Female  44.0             0              0          Yes       Govt_job   \n",
              "\n",
              "     Residence_type  avg_glucose_level   bmi   smoking_status  stroke  \n",
              "0             Urban             228.69  36.6  formerly smoked       1  \n",
              "1             Rural             202.21   NaN     never smoked       1  \n",
              "2             Rural             105.92  32.5     never smoked       1  \n",
              "3             Urban             171.23  34.4           smokes       1  \n",
              "4             Rural             174.12  24.0     never smoked       1  \n",
              "...             ...                ...   ...              ...     ...  \n",
              "5105          Urban              83.75   NaN     never smoked       0  \n",
              "5106          Urban             125.20  40.0     never smoked       0  \n",
              "5107          Rural              82.99  30.6     never smoked       0  \n",
              "5108          Rural             166.29  25.6  formerly smoked       0  \n",
              "5109          Urban              85.28  26.2          Unknown       0  \n",
              "\n",
              "[5109 rows x 11 columns]"
            ]
          },
          "execution_count": 284,
          "metadata": {},
          "output_type": "execute_result"
        }
      ],
      "source": [
        "# Drop unused column\n",
        "df.drop(columns=['id'], inplace=True)\n",
        "df"
      ]
    },
    {
      "cell_type": "markdown",
      "metadata": {
        "id": "2YiHzxqgsnvO"
      },
      "source": [
        "## **Define X and y**"
      ]
    },
    {
      "cell_type": "code",
      "execution_count": null,
      "metadata": {
        "id": "QtAQaCQ2snvQ"
      },
      "outputs": [],
      "source": [
        "X = df.drop(columns=['stroke'], axis=1)\n",
        "y = df['stroke']"
      ]
    },
    {
      "cell_type": "code",
      "execution_count": null,
      "metadata": {
        "id": "CoqzNtvnsnvQ",
        "outputId": "39206c72-8cbd-4572-eedf-5efdd7a93d82"
      },
      "outputs": [
        {
          "data": {
            "text/plain": [
              "0    4860\n",
              "1     249\n",
              "Name: stroke, dtype: int64"
            ]
          },
          "execution_count": 361,
          "metadata": {},
          "output_type": "execute_result"
        }
      ],
      "source": [
        "y.value_counts()"
      ]
    },
    {
      "cell_type": "markdown",
      "metadata": {
        "id": "V4-jGrJTsnvR"
      },
      "source": [
        "## **Data Splitting**"
      ]
    },
    {
      "cell_type": "code",
      "execution_count": null,
      "metadata": {
        "id": "jMDoveSnsnvR"
      },
      "outputs": [],
      "source": [
        "X_train, X_test, y_train, y_test = train_test_split(\n",
        "    X,\n",
        "    y,\n",
        "    stratify = y,\n",
        "    test_size = 0.2,\n",
        "    random_state = 42\n",
        ")"
      ]
    },
    {
      "cell_type": "code",
      "execution_count": null,
      "metadata": {
        "id": "X-R-EsWvsnvS"
      },
      "outputs": [],
      "source": []
    },
    {
      "cell_type": "markdown",
      "metadata": {
        "id": "k0VUTlxCsnvT"
      },
      "source": [
        "## **Pre-processing and Data Transform**"
      ]
    },
    {
      "cell_type": "code",
      "execution_count": null,
      "metadata": {
        "id": "RmGBxp_FsnvV",
        "outputId": "062e0f10-569d-483b-9bdd-8fcf3f70efe7"
      },
      "outputs": [
        {
          "data": {
            "text/plain": [
              "gender                 0\n",
              "age                    0\n",
              "hypertension           0\n",
              "heart_disease          0\n",
              "ever_married           0\n",
              "work_type              0\n",
              "Residence_type         0\n",
              "avg_glucose_level      0\n",
              "bmi                  201\n",
              "smoking_status         0\n",
              "stroke                 0\n",
              "dtype: int64"
            ]
          },
          "execution_count": 363,
          "metadata": {},
          "output_type": "execute_result"
        }
      ],
      "source": [
        "df.isna().sum()"
      ]
    },
    {
      "cell_type": "code",
      "execution_count": null,
      "metadata": {
        "id": "ZR_uY9OrsnvX",
        "outputId": "dfc25fe4-faec-4ed6-a029-58a8068d323c"
      },
      "outputs": [
        {
          "data": {
            "text/plain": [
              "ColumnTransformer(remainder='passthrough',\n",
              "                  transformers=[('imputer', IterativeImputer(random_state=42),\n",
              "                                 ['bmi']),\n",
              "                                ('one hot', OneHotEncoder(drop='first'),\n",
              "                                 ['gender', 'ever_married', 'work_type',\n",
              "                                  'Residence_type', 'smoking_status'])])"
            ]
          },
          "execution_count": 364,
          "metadata": {},
          "output_type": "execute_result"
        }
      ],
      "source": [
        "# Transformer\n",
        "transformer = ColumnTransformer([\n",
        "    ('imputer', IterativeImputer(max_iter=10, random_state=42), ['bmi']),\n",
        "    ('one hot', OneHotEncoder(drop='first'), ['gender', 'ever_married', 'work_type', 'Residence_type', 'smoking_status'])\n",
        "],  remainder='passthrough')\n",
        "\n",
        "transformer"
      ]
    },
    {
      "cell_type": "code",
      "execution_count": null,
      "metadata": {
        "id": "WM42M7XosnvZ"
      },
      "outputs": [],
      "source": [
        "# Scaler\n",
        "scaler = StandardScaler()"
      ]
    },
    {
      "cell_type": "code",
      "execution_count": null,
      "metadata": {
        "id": "rlFlm-ZXsnvb"
      },
      "outputs": [],
      "source": []
    },
    {
      "cell_type": "markdown",
      "metadata": {
        "id": "YYfHc9H6snvb"
      },
      "source": [
        "## **Model Benchmark (without Balancing)**\n",
        "Melihat hasil cross validation dari model benchmark dengan Decision Tree, tanpa imbalance treatment"
      ]
    },
    {
      "cell_type": "code",
      "execution_count": null,
      "metadata": {
        "id": "rPtxxoCjsnvc",
        "outputId": "ab06177d-09d5-4a62-ba8a-70bb4eb8a8fa"
      },
      "outputs": [
        {
          "name": "stdout",
          "output_type": "stream",
          "text": [
            "[0.         0.04166667 0.04444444 0.         0.04166667]\n",
            "0.025555555555555554\n"
          ]
        }
      ],
      "source": [
        "# Define models\n",
        "tree = DecisionTreeClassifier(criterion='entropy', max_depth=5, random_state=42)\n",
        "\n",
        "# Model Decision Tree dengan pipeline\n",
        "model = Pipeline([\n",
        "        ('transform', transformer),\n",
        "        ('scale', scaler),\n",
        "        ('model', tree)\n",
        "    ])\n",
        "\n",
        "skf = StratifiedKFold(n_splits=5)\n",
        "\n",
        "# fitting\n",
        "model_cv = cross_val_score(\n",
        "    model,\n",
        "    X_train,\n",
        "    y_train,\n",
        "    scoring='f1',\n",
        "    cv=skf\n",
        "    )\n",
        "\n",
        "print(model_cv)\n",
        "print(model_cv.mean())\n"
      ]
    },
    {
      "cell_type": "code",
      "execution_count": null,
      "metadata": {
        "id": "BsNvE_bEsnvc"
      },
      "outputs": [],
      "source": []
    },
    {
      "cell_type": "markdown",
      "metadata": {
        "id": "BJ5Zl5ZFsnvd"
      },
      "source": [
        "## **Penalized**\n",
        "\n",
        "Kita coba gunakan class_weight untuk mengatasi imbalance data"
      ]
    },
    {
      "cell_type": "code",
      "execution_count": null,
      "metadata": {
        "id": "sT_EWNRLsnvd",
        "outputId": "d30b08f3-a46e-4354-e0fd-adaf58c1836a"
      },
      "outputs": [
        {
          "name": "stdout",
          "output_type": "stream",
          "text": [
            "[0.19852941 0.23859649 0.20408163 0.2170088  0.21789883]\n",
            "0.21522303319692426\n"
          ]
        }
      ],
      "source": [
        "# Define models\n",
        "tree = DecisionTreeClassifier(criterion='entropy', max_depth=5, random_state=42, class_weight='balanced')\n",
        "\n",
        "# Model Decision Tree dengan pipeline\n",
        "model = Pipeline([\n",
        "        ('transform', transformer),\n",
        "        ('scale', scaler),\n",
        "        ('model', tree)\n",
        "    ])\n",
        "\n",
        "skf = StratifiedKFold(n_splits=5)\n",
        "\n",
        "# fitting\n",
        "model_cv = cross_val_score(\n",
        "    model,\n",
        "    X_train,\n",
        "    y_train,\n",
        "    scoring='f1',\n",
        "    cv=skf\n",
        "    )\n",
        "\n",
        "print(model_cv)\n",
        "print(model_cv.mean())\n"
      ]
    },
    {
      "cell_type": "code",
      "execution_count": null,
      "metadata": {
        "id": "WW4SK9Yqsnve"
      },
      "outputs": [],
      "source": []
    },
    {
      "cell_type": "markdown",
      "metadata": {
        "id": "-tMZqs-Ssnve"
      },
      "source": [
        "## **Under-sampling**\n",
        "\n",
        "Kita coba lakukan undersampling untuk mengatasi imbalance data.\n",
        "Resiko:\n",
        "- Data berkurang\n",
        "- Kehilangan informasi\n",
        "- Penurunan performa"
      ]
    },
    {
      "cell_type": "code",
      "execution_count": null,
      "metadata": {
        "id": "Anl5jU1Usnvf",
        "outputId": "092f5a8d-e780-45d4-8b2f-f5bf354e510f"
      },
      "outputs": [
        {
          "data": {
            "text/plain": [
              "0    3888\n",
              "1     199\n",
              "Name: stroke, dtype: int64"
            ]
          },
          "execution_count": 368,
          "metadata": {},
          "output_type": "execute_result"
        }
      ],
      "source": [
        "y_train.value_counts()"
      ]
    },
    {
      "cell_type": "code",
      "execution_count": null,
      "metadata": {
        "id": "qeAEbilesnvf"
      },
      "outputs": [],
      "source": [
        "# handling imbalance data\n",
        "rus = RandomUnderSampler(random_state=42)\n",
        "\n",
        "# balancing\n",
        "X_train_under, y_train_under = rus.fit_resample(X_train, y_train)"
      ]
    },
    {
      "cell_type": "code",
      "execution_count": null,
      "metadata": {
        "id": "cmC33VuVsnvg",
        "outputId": "49cfd144-879f-475a-bdb8-73580c7cc817"
      },
      "outputs": [
        {
          "data": {
            "text/plain": [
              "1    199\n",
              "0    199\n",
              "Name: stroke, dtype: int64"
            ]
          },
          "execution_count": 370,
          "metadata": {},
          "output_type": "execute_result"
        }
      ],
      "source": [
        "y_train_under.value_counts()"
      ]
    },
    {
      "cell_type": "markdown",
      "metadata": {
        "id": "ARxGM28Qsnvg"
      },
      "source": [
        "\\* Kita akan gunakan Pipeline saja untuk menghindari information leakage"
      ]
    },
    {
      "cell_type": "code",
      "execution_count": null,
      "metadata": {
        "id": "rySehz6hsnvh",
        "outputId": "92e0da8d-52cc-4d5e-f6df-3569a471d018"
      },
      "outputs": [
        {
          "name": "stdout",
          "output_type": "stream",
          "text": [
            "[0.17330211 0.18941504 0.17534247 0.17754569 0.15053763]\n",
            "0.1732285883158198\n"
          ]
        }
      ],
      "source": [
        "# handling imbalance data\n",
        "rus = RandomUnderSampler(random_state=42)\n",
        "\n",
        "# Define models\n",
        "tree = DecisionTreeClassifier(criterion='entropy', max_depth=5, random_state=42)\n",
        "\n",
        "# Model Decision Tree dengan pipeline\n",
        "model = Pipeline([\n",
        "        ('transform', transformer),\n",
        "        ('scale', scaler),\n",
        "        ('balancing', rus),\n",
        "        ('model', tree)\n",
        "    ])\n",
        "\n",
        "\n",
        "skf = StratifiedKFold(n_splits=5)\n",
        "\n",
        "# cross val\n",
        "model_cv = cross_val_score(\n",
        "    model,\n",
        "    X_train,\n",
        "    y_train,\n",
        "    scoring='f1',\n",
        "    cv=skf\n",
        "    )\n",
        "\n",
        "print(model_cv)\n",
        "print(model_cv.mean())"
      ]
    },
    {
      "cell_type": "markdown",
      "metadata": {
        "id": "6edlyW0asnvi"
      },
      "source": [
        "## **Over-sampling**\n",
        "\n",
        "Kita coba lakukan oversampling untuk mengatasi imbalance data.\n",
        "\n",
        "Resiko:\n",
        "- overfitting pada data yang diduplikasi\n",
        "- jika data yang diduplikat terlalu banyak, kemungkinan memperburuk performa model"
      ]
    },
    {
      "cell_type": "code",
      "execution_count": null,
      "metadata": {
        "id": "Rc39npmPsnvj",
        "outputId": "43ae6596-6ae1-41ba-cfd5-1eb1e2138a11"
      },
      "outputs": [
        {
          "name": "stdout",
          "output_type": "stream",
          "text": [
            "[0.20512821 0.21587302 0.15282392 0.2        0.20535714]\n",
            "0.1958364568248289\n"
          ]
        }
      ],
      "source": [
        "# handling imbalance data\n",
        "smote = SMOTE(random_state=42)\n",
        "\n",
        "# Define models\n",
        "tree = DecisionTreeClassifier(criterion='entropy', max_depth=5, random_state=42)\n",
        "\n",
        "# Model Decision Tree dengan pipeline\n",
        "model = Pipeline([\n",
        "        ('transform', transformer),\n",
        "        ('scale', scaler),\n",
        "        ('imbalance', smote),\n",
        "        ('model', tree)\n",
        "    ])\n",
        "\n",
        "skf = StratifiedKFold(n_splits=5)\n",
        "\n",
        "# cross val\n",
        "model_cv = cross_val_score(\n",
        "    model,\n",
        "    X_train,\n",
        "    y_train,\n",
        "    scoring='f1',\n",
        "    cv=skf\n",
        "    )\n",
        "\n",
        "print(model_cv)\n",
        "print(model_cv.mean())\n",
        "\n"
      ]
    },
    {
      "cell_type": "markdown",
      "metadata": {
        "id": "Bc09sPmdsnvm"
      },
      "source": [
        "## Kesimpulan dari cross validation\n",
        "\n",
        "f1-score:\n",
        "- no treatment = 0.025\n",
        "- penalized = 0.215\n",
        "- under sampling = 0.173\n",
        "- over sampling = 0.195\n",
        "\n",
        "Dari 3 metode handling imbalace dataset tersebut, f1-score paling besar diperoleh dengan menggunakan metode Penalized"
      ]
    },
    {
      "cell_type": "code",
      "execution_count": null,
      "metadata": {
        "id": "WTFpuWfRsnvq"
      },
      "outputs": [],
      "source": []
    },
    {
      "cell_type": "markdown",
      "metadata": {
        "id": "2fRn2Vfdsnvs"
      },
      "source": [
        "## **Hyperparameter Tuning**\n",
        "Coba melakukan hyperparameter tuning pada model decision tree dengan treatment SMOTE"
      ]
    },
    {
      "cell_type": "code",
      "source": [
        "# model.get_params()"
      ],
      "metadata": {
        "id": "3O1lzZWfSQnO"
      },
      "execution_count": null,
      "outputs": []
    },
    {
      "cell_type": "code",
      "execution_count": null,
      "metadata": {
        "id": "M1lMcg8csnvt"
      },
      "outputs": [],
      "source": [
        "# balancing method\n",
        "smote = SMOTE(random_state=42)\n",
        "\n",
        "# model benchmark\n",
        "tree = DecisionTreeClassifier(criterion='entropy', max_depth=5, min_samples_leaf=1, random_state=42)\n",
        "\n",
        "# algorithm chains\n",
        "model = Pipeline([\n",
        "    ('transform', transformer),\n",
        "    ('scale', scaler),\n",
        "    ('balancing', smote),\n",
        "    ('model', tree)\n",
        "])\n",
        "\n",
        "# Hyperparameter space\n",
        "hyperparam_space = {\n",
        "    'balancing__k_neighbors':[2,5,10,15,20],            # benchmark: 5, kombinasi = 5\n",
        "    'model__criterion':['gini','entropy'],              # benchmark: entropy, kombinasi = 2\n",
        "    'model__min_samples_leaf':[1, 5, 10, 15, 20, 50],   # benchmark: 1, kombinasi = 6\n",
        "    'model__max_depth':[2, 3, 4, 5, 6, 7],              # benchmark: 5, kombinasi = 6\n",
        "    'scale':[StandardScaler(), RobustScaler()]\n",
        "}\n",
        "\n",
        "# # Hyperparameter space\n",
        "# hyperparam_space = {\n",
        "#     'balancing__k_neighbors':np.arange(1,20,1),     # benchmark: 5\n",
        "#     'model__criterion':['gini','entropy'],          # benchmark: entropy\n",
        "#     'model__min_samples_leaf':np.arange(1,100,1),   # benchmark: 1\n",
        "#     'model__max_depth':np.arange(1,20,1),           # benchmark: 5\n",
        "#     'scale':[StandardScaler(), RobustScaler()]\n",
        "# }\n",
        "\n",
        "\n",
        "# Stratified cross validation\n",
        "skf = StratifiedKFold(n_splits = 5)\n",
        "\n",
        "# Hyperparameter tuning\n",
        "random_search = RandomizedSearchCV(\n",
        "    model, # model to tune\n",
        "    param_distributions = hyperparam_space, # hyperparameter space\n",
        "    cv = skf, # evaluation method\n",
        "    scoring = 'f1', # metrics\n",
        "    n_iter = 30, # sampling\n",
        "    n_jobs = -1, # use all cores\n",
        "    verbose = 1 # / 2 / 3 / 4\n",
        ")"
      ]
    },
    {
      "cell_type": "code",
      "execution_count": null,
      "metadata": {
        "id": "cBe9ZJGvsnvv",
        "outputId": "1b782a1b-dbcc-4a93-f87c-3085d440481d"
      },
      "outputs": [
        {
          "data": {
            "text/plain": [
              "RandomizedSearchCV(cv=StratifiedKFold(n_splits=5, random_state=None, shuffle=False),\n",
              "                   estimator=Pipeline(steps=[('transform',\n",
              "                                              ColumnTransformer(remainder='passthrough',\n",
              "                                                                transformers=[('imputer',\n",
              "                                                                               IterativeImputer(random_state=42),\n",
              "                                                                               ['bmi']),\n",
              "                                                                              ('one '\n",
              "                                                                               'hot',\n",
              "                                                                               OneHotEncoder(drop='first'),\n",
              "                                                                               ['gender',\n",
              "                                                                                'ever_married',\n",
              "                                                                                'work_type',\n",
              "                                                                                'Residence_type',\n",
              "                                                                                'smoking_status'])])),\n",
              "                                             ('s...\n",
              "                                              SMOTE(random_state=42)),\n",
              "                                             ('model',\n",
              "                                              DecisionTreeClassifier(criterion='entropy',\n",
              "                                                                     max_depth=5,\n",
              "                                                                     random_state=42))]),\n",
              "                   n_iter=30, n_jobs=-1,\n",
              "                   param_distributions={'balancing__k_neighbors': [2, 5, 10, 15,\n",
              "                                                                   20],\n",
              "                                        'model__criterion': ['gini', 'entropy'],\n",
              "                                        'model__max_depth': [2, 3, 4, 5, 6, 7],\n",
              "                                        'model__min_samples_leaf': [1, 5, 10,\n",
              "                                                                    15, 20,\n",
              "                                                                    50],\n",
              "                                        'scale': [StandardScaler(),\n",
              "                                                  RobustScaler()]},\n",
              "                   scoring='f1')"
            ]
          },
          "execution_count": 374,
          "metadata": {},
          "output_type": "execute_result"
        }
      ],
      "source": [
        "# tuning\n",
        "random_search.fit(X_train, y_train)"
      ]
    },
    {
      "cell_type": "code",
      "execution_count": null,
      "metadata": {
        "id": "Qz-Oz-UYsnvy",
        "outputId": "1758a1d5-d9b8-44da-d278-7af4b668b542"
      },
      "outputs": [
        {
          "name": "stdout",
          "output_type": "stream",
          "text": [
            "best score 0.21532417342561438\n",
            "best param {'scale': StandardScaler(), 'model__min_samples_leaf': 15, 'model__max_depth': 2, 'model__criterion': 'entropy', 'balancing__k_neighbors': 20}\n"
          ]
        }
      ],
      "source": [
        "print('best score',random_search.best_score_)\n",
        "print('best param',random_search.best_params_)"
      ]
    },
    {
      "cell_type": "code",
      "execution_count": null,
      "metadata": {
        "id": "kOV1cLmFsnvy",
        "outputId": "2c1c2300-d5e8-4e59-9a97-3006661ac9da"
      },
      "outputs": [
        {
          "data": {
            "text/html": [
              "<div>\n",
              "<style scoped>\n",
              "    .dataframe tbody tr th:only-of-type {\n",
              "        vertical-align: middle;\n",
              "    }\n",
              "\n",
              "    .dataframe tbody tr th {\n",
              "        vertical-align: top;\n",
              "    }\n",
              "\n",
              "    .dataframe thead th {\n",
              "        text-align: right;\n",
              "    }\n",
              "</style>\n",
              "<table border=\"1\" class=\"dataframe\">\n",
              "  <thead>\n",
              "    <tr style=\"text-align: right;\">\n",
              "      <th></th>\n",
              "      <th>mean_fit_time</th>\n",
              "      <th>std_fit_time</th>\n",
              "      <th>mean_score_time</th>\n",
              "      <th>std_score_time</th>\n",
              "      <th>param_scale</th>\n",
              "      <th>param_model__min_samples_leaf</th>\n",
              "      <th>param_model__max_depth</th>\n",
              "      <th>param_model__criterion</th>\n",
              "      <th>param_balancing__k_neighbors</th>\n",
              "      <th>params</th>\n",
              "      <th>split0_test_score</th>\n",
              "      <th>split1_test_score</th>\n",
              "      <th>split2_test_score</th>\n",
              "      <th>split3_test_score</th>\n",
              "      <th>split4_test_score</th>\n",
              "      <th>mean_test_score</th>\n",
              "      <th>std_test_score</th>\n",
              "      <th>rank_test_score</th>\n",
              "    </tr>\n",
              "  </thead>\n",
              "  <tbody>\n",
              "    <tr>\n",
              "      <th>7</th>\n",
              "      <td>0.170600</td>\n",
              "      <td>0.024664</td>\n",
              "      <td>0.050401</td>\n",
              "      <td>0.017153</td>\n",
              "      <td>StandardScaler()</td>\n",
              "      <td>15</td>\n",
              "      <td>2</td>\n",
              "      <td>entropy</td>\n",
              "      <td>20</td>\n",
              "      <td>{'scale': StandardScaler(), 'model__min_sample...</td>\n",
              "      <td>0.223602</td>\n",
              "      <td>0.249084</td>\n",
              "      <td>0.195804</td>\n",
              "      <td>0.230216</td>\n",
              "      <td>0.177914</td>\n",
              "      <td>0.215324</td>\n",
              "      <td>0.025340</td>\n",
              "      <td>1</td>\n",
              "    </tr>\n",
              "    <tr>\n",
              "      <th>9</th>\n",
              "      <td>0.151402</td>\n",
              "      <td>0.030742</td>\n",
              "      <td>0.040796</td>\n",
              "      <td>0.002788</td>\n",
              "      <td>StandardScaler()</td>\n",
              "      <td>20</td>\n",
              "      <td>2</td>\n",
              "      <td>gini</td>\n",
              "      <td>2</td>\n",
              "      <td>{'scale': StandardScaler(), 'model__min_sample...</td>\n",
              "      <td>0.223602</td>\n",
              "      <td>0.249084</td>\n",
              "      <td>0.195804</td>\n",
              "      <td>0.206349</td>\n",
              "      <td>0.193050</td>\n",
              "      <td>0.213578</td>\n",
              "      <td>0.020740</td>\n",
              "      <td>2</td>\n",
              "    </tr>\n",
              "    <tr>\n",
              "      <th>2</th>\n",
              "      <td>0.133202</td>\n",
              "      <td>0.018915</td>\n",
              "      <td>0.043798</td>\n",
              "      <td>0.010909</td>\n",
              "      <td>StandardScaler()</td>\n",
              "      <td>5</td>\n",
              "      <td>2</td>\n",
              "      <td>gini</td>\n",
              "      <td>10</td>\n",
              "      <td>{'scale': StandardScaler(), 'model__min_sample...</td>\n",
              "      <td>0.223602</td>\n",
              "      <td>0.197333</td>\n",
              "      <td>0.195804</td>\n",
              "      <td>0.230216</td>\n",
              "      <td>0.177914</td>\n",
              "      <td>0.204974</td>\n",
              "      <td>0.019281</td>\n",
              "      <td>3</td>\n",
              "    </tr>\n",
              "    <tr>\n",
              "      <th>13</th>\n",
              "      <td>0.105201</td>\n",
              "      <td>0.008999</td>\n",
              "      <td>0.033001</td>\n",
              "      <td>0.002280</td>\n",
              "      <td>StandardScaler()</td>\n",
              "      <td>10</td>\n",
              "      <td>2</td>\n",
              "      <td>gini</td>\n",
              "      <td>10</td>\n",
              "      <td>{'scale': StandardScaler(), 'model__min_sample...</td>\n",
              "      <td>0.223602</td>\n",
              "      <td>0.197333</td>\n",
              "      <td>0.195804</td>\n",
              "      <td>0.230216</td>\n",
              "      <td>0.177914</td>\n",
              "      <td>0.204974</td>\n",
              "      <td>0.019281</td>\n",
              "      <td>3</td>\n",
              "    </tr>\n",
              "    <tr>\n",
              "      <th>26</th>\n",
              "      <td>0.133803</td>\n",
              "      <td>0.010962</td>\n",
              "      <td>0.032399</td>\n",
              "      <td>0.002061</td>\n",
              "      <td>RobustScaler()</td>\n",
              "      <td>10</td>\n",
              "      <td>2</td>\n",
              "      <td>entropy</td>\n",
              "      <td>2</td>\n",
              "      <td>{'scale': RobustScaler(), 'model__min_samples_...</td>\n",
              "      <td>0.178082</td>\n",
              "      <td>0.241379</td>\n",
              "      <td>0.195804</td>\n",
              "      <td>0.230216</td>\n",
              "      <td>0.177914</td>\n",
              "      <td>0.204679</td>\n",
              "      <td>0.026463</td>\n",
              "      <td>5</td>\n",
              "    </tr>\n",
              "  </tbody>\n",
              "</table>\n",
              "</div>"
            ],
            "text/plain": [
              "    mean_fit_time  std_fit_time  mean_score_time  std_score_time  \\\n",
              "7        0.170600      0.024664         0.050401        0.017153   \n",
              "9        0.151402      0.030742         0.040796        0.002788   \n",
              "2        0.133202      0.018915         0.043798        0.010909   \n",
              "13       0.105201      0.008999         0.033001        0.002280   \n",
              "26       0.133803      0.010962         0.032399        0.002061   \n",
              "\n",
              "         param_scale param_model__min_samples_leaf param_model__max_depth  \\\n",
              "7   StandardScaler()                            15                      2   \n",
              "9   StandardScaler()                            20                      2   \n",
              "2   StandardScaler()                             5                      2   \n",
              "13  StandardScaler()                            10                      2   \n",
              "26    RobustScaler()                            10                      2   \n",
              "\n",
              "   param_model__criterion param_balancing__k_neighbors  \\\n",
              "7                 entropy                           20   \n",
              "9                    gini                            2   \n",
              "2                    gini                           10   \n",
              "13                   gini                           10   \n",
              "26                entropy                            2   \n",
              "\n",
              "                                               params  split0_test_score  \\\n",
              "7   {'scale': StandardScaler(), 'model__min_sample...           0.223602   \n",
              "9   {'scale': StandardScaler(), 'model__min_sample...           0.223602   \n",
              "2   {'scale': StandardScaler(), 'model__min_sample...           0.223602   \n",
              "13  {'scale': StandardScaler(), 'model__min_sample...           0.223602   \n",
              "26  {'scale': RobustScaler(), 'model__min_samples_...           0.178082   \n",
              "\n",
              "    split1_test_score  split2_test_score  split3_test_score  \\\n",
              "7            0.249084           0.195804           0.230216   \n",
              "9            0.249084           0.195804           0.206349   \n",
              "2            0.197333           0.195804           0.230216   \n",
              "13           0.197333           0.195804           0.230216   \n",
              "26           0.241379           0.195804           0.230216   \n",
              "\n",
              "    split4_test_score  mean_test_score  std_test_score  rank_test_score  \n",
              "7            0.177914         0.215324        0.025340                1  \n",
              "9            0.193050         0.213578        0.020740                2  \n",
              "2            0.177914         0.204974        0.019281                3  \n",
              "13           0.177914         0.204974        0.019281                3  \n",
              "26           0.177914         0.204679        0.026463                5  "
            ]
          },
          "execution_count": 376,
          "metadata": {},
          "output_type": "execute_result"
        }
      ],
      "source": [
        "pd.DataFrame(random_search.cv_results_).sort_values(by='rank_test_score').head(5)"
      ]
    },
    {
      "cell_type": "code",
      "execution_count": null,
      "metadata": {
        "id": "BJMjONlgsnv2"
      },
      "outputs": [],
      "source": []
    },
    {
      "cell_type": "markdown",
      "metadata": {
        "id": "wwjmoGGEsnv6"
      },
      "source": [
        "## **Model Performance in Test Set**\n",
        "**Before & after tuning of Decision Tree model with SMOTE**"
      ]
    },
    {
      "cell_type": "markdown",
      "metadata": {
        "id": "5pS6Zo1Psnv8"
      },
      "source": [
        "### **Before**"
      ]
    },
    {
      "cell_type": "code",
      "execution_count": null,
      "metadata": {
        "id": "7qUfCJepsnv8",
        "outputId": "5832b823-2081-4def-948f-c54f791b15d2"
      },
      "outputs": [
        {
          "name": "stdout",
          "output_type": "stream",
          "text": [
            "              precision    recall  f1-score   support\n",
            "\n",
            "           0       0.99      0.64      0.78       972\n",
            "           1       0.11      0.82      0.19        50\n",
            "\n",
            "    accuracy                           0.65      1022\n",
            "   macro avg       0.55      0.73      0.48      1022\n",
            "weighted avg       0.94      0.65      0.75      1022\n",
            "\n"
          ]
        }
      ],
      "source": [
        "# Handling imbalance\n",
        "smote = SMOTE(random_state=42)\n",
        "\n",
        "# Define model benchmark\n",
        "tree = DecisionTreeClassifier(criterion='entropy', max_depth=5, random_state=42)\n",
        "\n",
        "# Model Decision Tree dengan pipeline\n",
        "model = Pipeline([\n",
        "        ('transform', transformer),\n",
        "        ('scale', scaler),\n",
        "        ('imbalance', smote),\n",
        "        ('model', tree)\n",
        "    ])\n",
        "\n",
        "# fitting\n",
        "model.fit(X_train,y_train)\n",
        "\n",
        "# predict\n",
        "y_pred = model.predict(X_test)\n",
        "\n",
        "# score\n",
        "print(classification_report(y_test, y_pred))"
      ]
    },
    {
      "cell_type": "code",
      "execution_count": null,
      "metadata": {
        "id": "ul6pHCUFsnv9",
        "outputId": "f67be9df-1367-4220-f9fc-9aee1c5f0dfa"
      },
      "outputs": [
        {
          "data": {
            "text/plain": [
              "<sklearn.metrics._plot.roc_curve.RocCurveDisplay at 0x1dbd7652388>"
            ]
          },
          "execution_count": 378,
          "metadata": {},
          "output_type": "execute_result"
        },
        {
          "data": {
            "image/png": "[encoded data removed]",
            "text/plain": [
              "<Figure size 432x288 with 1 Axes>"
            ]
          },
          "metadata": {
            "needs_background": "light"
          },
          "output_type": "display_data"
        }
      ],
      "source": [
        "plot_roc_curve(model, X_test, y_test)"
      ]
    },
    {
      "cell_type": "code",
      "execution_count": null,
      "metadata": {
        "id": "eh3oP_BIsnv-",
        "outputId": "6e294f7c-da77-4b6b-e10a-fd69f53e6dd9"
      },
      "outputs": [
        {
          "data": {
            "text/plain": [
              "<sklearn.metrics._plot.precision_recall_curve.PrecisionRecallDisplay at 0x1dbdb612988>"
            ]
          },
          "execution_count": 379,
          "metadata": {},
          "output_type": "execute_result"
        },
        {
          "data": {
            "image/png": "[encoded data removed]",
            "text/plain": [
              "<Figure size 432x288 with 1 Axes>"
            ]
          },
          "metadata": {
            "needs_background": "light"
          },
          "output_type": "display_data"
        }
      ],
      "source": [
        "plot_precision_recall_curve(model, X_test, y_test)"
      ]
    },
    {
      "cell_type": "markdown",
      "metadata": {
        "id": "ncD9ywwmsnv_"
      },
      "source": [
        "### **After**"
      ]
    },
    {
      "cell_type": "code",
      "execution_count": null,
      "metadata": {
        "id": "FQP7H66Esnv_"
      },
      "outputs": [],
      "source": [
        "# fitting\n",
        "\n",
        "model = random_search.best_estimator_\n",
        "model.fit(X_train, y_train)\n",
        "\n",
        "# predict\n",
        "y_pred_tuning = model.predict(X_test)"
      ]
    },
    {
      "cell_type": "code",
      "execution_count": null,
      "metadata": {
        "id": "wby1dmHosnwA",
        "outputId": "40cc24de-c942-4801-dd93-c1f90013c248"
      },
      "outputs": [
        {
          "name": "stdout",
          "output_type": "stream",
          "text": [
            "              precision    recall  f1-score   support\n",
            "\n",
            "           0       0.99      0.73      0.84       972\n",
            "           1       0.13      0.82      0.23        50\n",
            "\n",
            "    accuracy                           0.73      1022\n",
            "   macro avg       0.56      0.77      0.53      1022\n",
            "weighted avg       0.95      0.73      0.81      1022\n",
            "\n"
          ]
        }
      ],
      "source": [
        "print(classification_report(y_test, y_pred_tuning))"
      ]
    },
    {
      "cell_type": "code",
      "execution_count": null,
      "metadata": {
        "id": "ziOvTJIMsnwA",
        "outputId": "6757700f-3bc3-4182-c5e1-66dd1ec5ee2c"
      },
      "outputs": [
        {
          "data": {
            "text/plain": [
              "<sklearn.metrics._plot.roc_curve.RocCurveDisplay at 0x1dbd7402c08>"
            ]
          },
          "execution_count": 382,
          "metadata": {},
          "output_type": "execute_result"
        },
        {
          "data": {
            "image/png": "[encoded data removed]",
            "text/plain": [
              "<Figure size 432x288 with 1 Axes>"
            ]
          },
          "metadata": {
            "needs_background": "light"
          },
          "output_type": "display_data"
        }
      ],
      "source": [
        "plot_roc_curve(model, X_test, y_test)"
      ]
    },
    {
      "cell_type": "code",
      "execution_count": null,
      "metadata": {
        "id": "a-cQkKz3snwB",
        "outputId": "cae30016-2f6d-4f55-894f-e4536f42107c"
      },
      "outputs": [
        {
          "data": {
            "text/plain": [
              "<sklearn.metrics._plot.precision_recall_curve.PrecisionRecallDisplay at 0x1dbd7299108>"
            ]
          },
          "execution_count": 383,
          "metadata": {},
          "output_type": "execute_result"
        },
        {
          "data": {
            "image/png": "[encoded data removed]",
            "text/plain": [
              "<Figure size 432x288 with 1 Axes>"
            ]
          },
          "metadata": {
            "needs_background": "light"
          },
          "output_type": "display_data"
        }
      ],
      "source": [
        "plot_precision_recall_curve(model, X_test, y_test)"
      ]
    },
    {
      "cell_type": "markdown",
      "metadata": {
        "id": "QR4JAXOlsnwB"
      },
      "source": [
        "### **confusion matrix**"
      ]
    },
    {
      "cell_type": "code",
      "execution_count": null,
      "metadata": {
        "id": "QBuGsLBJsnwC",
        "outputId": "c1576c5d-b9d3-4863-b23a-cc51d92111cc"
      },
      "outputs": [
        {
          "data": {
            "image/png": "[encoded data removed]",
            "text/plain": [
              "<Figure size 576x360 with 2 Axes>"
            ]
          },
          "metadata": {
            "needs_background": "light"
          },
          "output_type": "display_data"
        }
      ],
      "source": [
        "# before tuning\n",
        "\n",
        "f, ax = plt.subplots(figsize=(8, 5))\n",
        "sns.heatmap(confusion_matrix(y_test, y_pred), annot=True, fmt='.0f', ax=ax)\n",
        "plt.xlabel('y Prediksi')\n",
        "plt.ylabel('y Aktual');"
      ]
    },
    {
      "cell_type": "code",
      "execution_count": null,
      "metadata": {
        "id": "tYGsl_YqsnwC",
        "outputId": "fe30bfd1-52b3-4ca0-bf98-29ae20e7e439"
      },
      "outputs": [
        {
          "data": {
            "image/png": "[encoded data removed]",
            "text/plain": [
              "<Figure size 576x360 with 2 Axes>"
            ]
          },
          "metadata": {
            "needs_background": "light"
          },
          "output_type": "display_data"
        }
      ],
      "source": [
        "# after tuning\n",
        "\n",
        "f, ax = plt.subplots(figsize=(8, 5))\n",
        "sns.heatmap(confusion_matrix(y_test, y_pred_tuning), annot=True, fmt='.0f', ax=ax)\n",
        "plt.xlabel('y Prediksi')\n",
        "plt.ylabel('y Aktual');"
      ]
    },
    {
      "cell_type": "markdown",
      "metadata": {
        "id": "VYvnIF5TsnwD"
      },
      "source": [
        "## **Interpretasi**\n",
        "\n",
        "TP: Model memprediksi orang mengidap penyakit stroke dan aktualnya memang iya (41).<br>\n",
        "FP: Model memprediksi orang mengidap penyakit stroke, tetapi aktualnya tidak (264).\n",
        "<br><br>\n",
        "TN: Model memprediksi orang tidak mengidap penyakit stroke dan aktualnya memang tidak (708).<br>\n",
        "FN: Model memprediksi orang tidak mengidap penyakit stroke, tetapi aktualnya mengidap penyakit stroke (9).\n",
        "<br><br>\n",
        "\n",
        "- Dalam kasus ini, FP dan FN sama-sama penting karena False Positive dapat mengakibatkan orang tersebut melakukan pengobatan yang sebenarnya tidak diperlukan dan False Negative dapat menyebabkan kesalahan dalam diagnosis, yang mana menjadi hal yang serius karena penyakit stroke tersebut tidak ditangani sesegera mungkin.\n",
        "\n",
        "- Setelah dilakukan hyperparameter tuning, f1-score naik dari 0.19 menjadi 0.23.\n",
        "\n",
        "- Karena jumlah sample kelas negatif jauh lebih banyak dari kelas positif, dari confusion matrix plot dapat dilihat bahwa banyak terdapat samples kelas negatif yang bisa menjadi false positive. Sebaliknya, karena sample kelas positif hanya berjumlah sedikit, maka sedikit pula samples kelas positif yang menjadi false negatif."
      ]
    },
    {
      "cell_type": "code",
      "execution_count": null,
      "metadata": {
        "id": "HlCG9jMIsnwD"
      },
      "outputs": [],
      "source": []
    },
    {
      "cell_type": "code",
      "execution_count": null,
      "metadata": {
        "id": "x9Ou6HSOsnwD"
      },
      "outputs": [],
      "source": []
    },
    {
      "cell_type": "code",
      "execution_count": null,
      "metadata": {
        "id": "xu0SzoaTsnwD"
      },
      "outputs": [],
      "source": []
    },
    {
      "cell_type": "markdown",
      "metadata": {
        "id": "cg72z1_m6V_C"
      },
      "source": [
        "## THRESHOLD OPTIMIZATION"
      ]
    },
    {
      "cell_type": "code",
      "execution_count": null,
      "metadata": {
        "id": "ZWe61wG36l9x",
        "outputId": "4ef8b17a-bb22-4c40-8db3-ee0bc81448fc"
      },
      "outputs": [
        {
          "name": "stdout",
          "output_type": "stream",
          "text": [
            "0.2 \t 0.16247582205029013\n",
            "0.21 \t 0.16247582205029013\n",
            "0.22 \t 0.16247582205029013\n",
            "0.23 \t 0.16247582205029013\n",
            "0.24 \t 0.16247582205029013\n",
            "0.25 \t 0.16247582205029013\n",
            "0.26 \t 0.16247582205029013\n",
            "0.27 \t 0.16247582205029013\n",
            "0.28 \t 0.16247582205029013\n",
            "0.29 \t 0.16247582205029013\n",
            "0.3 \t 0.16247582205029013\n",
            "0.31 \t 0.16247582205029013\n",
            "0.32 \t 0.16247582205029013\n",
            "0.33 \t 0.16247582205029013\n",
            "0.34 \t 0.16247582205029013\n",
            "0.35 \t 0.16247582205029013\n",
            "0.36 \t 0.16247582205029013\n",
            "0.37 \t 0.16247582205029013\n",
            "0.38 \t 0.16247582205029013\n",
            "0.39 \t 0.16247582205029013\n",
            "0.4 \t 0.16247582205029013\n",
            "0.41 \t 0.16247582205029013\n",
            "0.42 \t 0.16247582205029013\n",
            "0.43 \t 0.16247582205029013\n",
            "0.44 \t 0.16247582205029013\n",
            "0.45 \t 0.16247582205029013\n",
            "0.46 \t 0.23098591549295772\n",
            "0.47 \t 0.23098591549295772\n",
            "0.48 \t 0.23098591549295772\n",
            "0.49 \t 0.23098591549295772\n",
            "0.5 \t 0.23098591549295772\n",
            "0.51 \t 0.23098591549295772\n",
            "0.52 \t 0.23098591549295772\n",
            "0.53 \t 0.23098591549295772\n",
            "0.54 \t 0.23098591549295772\n",
            "0.55 \t 0.23098591549295772\n",
            "0.56 \t 0.23098591549295772\n",
            "0.57 \t 0.23098591549295772\n",
            "0.58 \t 0.23098591549295772\n",
            "0.59 \t 0.23098591549295772\n"
          ]
        }
      ],
      "source": [
        "# mencari threshold terbaik\n",
        "\n",
        "# define model\n",
        "model = random_search.best_estimator_\n",
        "\n",
        "# training model pada train set\n",
        "model.fit(X_train, y_train)\n",
        "\n",
        "th_value = [i/100 for i in range(20,60)]\n",
        "score = 0\n",
        "score_list = []\n",
        "\n",
        "for i in th_value:\n",
        "    # probability kelas 1 pada test set\n",
        "    y_prob = model.predict_proba(X_test)[:,1]\n",
        "    y_pred = np.where(y_prob>i,1,0)\n",
        "    score_temp = f1_score(y_test, y_pred)\n",
        "    score_list.append(score_temp)\n",
        "\n",
        "    print(i,'\\t', score_temp)\n",
        "\n",
        "    if score_temp > score :\n",
        "      score = score_temp\n",
        "\n",
        "      best_score = score\n",
        "      best_th = i"
      ]
    },
    {
      "cell_type": "code",
      "execution_count": null,
      "metadata": {
        "colab": {
          "base_uri": "https://localhost:8080/",
          "height": 283
        },
        "id": "5RW1gFzF8JgI",
        "outputId": "d4aa95a8-e713-4c36-e1d8-d4762a31db91"
      },
      "outputs": [
        {
          "data": {
            "text/plain": [
              "<matplotlib.axes._subplots.AxesSubplot at 0x1dbd7453188>"
            ]
          },
          "execution_count": 396,
          "metadata": {},
          "output_type": "execute_result"
        },
        {
          "data": {
            "image/png": "[encoded data removed]",
            "text/plain": [
              "<Figure size 432x288 with 1 Axes>"
            ]
          },
          "metadata": {
            "needs_background": "light"
          },
          "output_type": "display_data"
        }
      ],
      "source": [
        "sns.lineplot(th_value, score_list)"
      ]
    },
    {
      "cell_type": "code",
      "execution_count": null,
      "metadata": {
        "colab": {
          "base_uri": "https://localhost:8080/",
          "height": 51
        },
        "id": "Aop-jnAu7lxf",
        "outputId": "4746a229-87b2-4b02-906b-b2b2c168ead9"
      },
      "outputs": [
        {
          "name": "stdout",
          "output_type": "stream",
          "text": [
            "best threshold 0.46\n",
            "best score 0.23098591549295772\n"
          ]
        }
      ],
      "source": [
        "# threshold terbaik\n",
        "print('best threshold', best_th)\n",
        "print('best score', best_score)"
      ]
    },
    {
      "cell_type": "markdown",
      "metadata": {
        "id": "UHxRVC7ksnwM"
      },
      "source": [
        "\\* Berarti hasil prediksinya akan sama saja dengan threshold=0.5 karena f1-score pada threshold=0.46 sama dengan f1-score pada threshold=0.50"
      ]
    },
    {
      "cell_type": "code",
      "execution_count": null,
      "metadata": {
        "id": "t7iHgw1s3Jri"
      },
      "outputs": [],
      "source": [
        "# train model pada train set\n",
        "model.fit(X_train, y_train)\n",
        "\n",
        "# sekarang predict model pada test set dengan threshold terbaik\n",
        "y_prob = model.predict_proba(X_test)[:,1]\n",
        "y_pred = np.where(y_prob>best_th,1,0)"
      ]
    },
    {
      "cell_type": "code",
      "execution_count": null,
      "metadata": {
        "colab": {
          "base_uri": "https://localhost:8080/",
          "height": 170
        },
        "id": "D_Yl1LeO3JxL",
        "outputId": "51efad50-edc0-4109-abe1-9289e66385ab"
      },
      "outputs": [
        {
          "name": "stdout",
          "output_type": "stream",
          "text": [
            "              precision    recall  f1-score   support\n",
            "\n",
            "           0       0.99      0.73      0.84       972\n",
            "           1       0.13      0.82      0.23        50\n",
            "\n",
            "    accuracy                           0.73      1022\n",
            "   macro avg       0.56      0.77      0.53      1022\n",
            "weighted avg       0.95      0.73      0.81      1022\n",
            "\n"
          ]
        }
      ],
      "source": [
        "print(classification_report(y_test, y_pred))"
      ]
    },
    {
      "cell_type": "code",
      "execution_count": null,
      "metadata": {
        "id": "sfM3EgeysnwQ",
        "outputId": "673594bb-ec47-4d03-b1f9-c3786c3a66fe"
      },
      "outputs": [
        {
          "data": {
            "text/plain": [
              "<sklearn.metrics._plot.roc_curve.RocCurveDisplay at 0x1dbd72e3b88>"
            ]
          },
          "execution_count": 400,
          "metadata": {},
          "output_type": "execute_result"
        },
        {
          "data": {
            "image/png": "[encoded data removed]",
            "text/plain": [
              "<Figure size 432x288 with 1 Axes>"
            ]
          },
          "metadata": {
            "needs_background": "light"
          },
          "output_type": "display_data"
        }
      ],
      "source": [
        "plot_roc_curve(model, X_test, y_test)"
      ]
    },
    {
      "cell_type": "code",
      "execution_count": null,
      "metadata": {
        "id": "uxDhuO1UsnwR",
        "outputId": "dcab2d8a-6561-4b78-dadb-dc42aef6d7f9"
      },
      "outputs": [
        {
          "data": {
            "image/png": "[encoded data removed]",
            "text/plain": [
              "<Figure size 576x360 with 2 Axes>"
            ]
          },
          "metadata": {
            "needs_background": "light"
          },
          "output_type": "display_data"
        }
      ],
      "source": [
        "# after tuning\n",
        "\n",
        "f, ax = plt.subplots(figsize=(8, 5))\n",
        "sns.heatmap(confusion_matrix(y_test, y_pred), annot=True, fmt='.0f', ax=ax)\n",
        "plt.xlabel('y Prediksi')\n",
        "plt.ylabel('y Aktual');"
      ]
    },
    {
      "cell_type": "markdown",
      "metadata": {
        "id": "W6AJtFu1snwS"
      },
      "source": [
        "Hasilnya sama saja dengan menggunakan threshold 0.5"
      ]
    },
    {
      "cell_type": "markdown",
      "source": [
        "## **Random Forest**\n",
        "\n",
        "- Explore: Bagaimana setiap feature berhubungan dengan apakah seseorang survive/alive? Lakukan EDA dan jelaskan hasil yang didapat!\n",
        "\n",
        "- Splitting: 80-20, stratify: y, random_state = 0\n",
        "\n",
        "- Preprocessing:\n",
        "    - Drop deck\n",
        "    - Isi missing value menggunakan simple imputer\n",
        "    - One hot encoding: sex, alone\n",
        "    - Ordinal encoding: class\n",
        "    - Binary encoding: embark town\n",
        "\n",
        "- Model selection:\n",
        "    - Evaluation metrics dengan F1_score\n",
        "    - Kandidat model: Logreg, KNN, DecisionTreeClassifier, RandomForestClassifier\n",
        "    - Pilih 2 model terbaik dan lakukan Hyperparameter tuning pada kedua model tersebut\n",
        "    - Buat kesimpulan model mana yang terbaik untuk titanic dataset\n",
        "\n",
        "\\* tips: gunakan pipeline ketika diperlukan untuk menghindari data leakage.\n",
        "\n",
        "\\* Hyperparameter tuning untuk Random Forest:\n",
        "- n_estimators = 100-2000\n",
        "- max_features = 2-8\n",
        "- max_depth = 5-100\n",
        "- min_samples_split = 2-20\n",
        "- min_samples_leaf = 1-20"
      ],
      "metadata": {
        "id": "MdUOj8UDeRaE"
      }
    }
  ],
  "metadata": {
    "interpreter": {
      "hash": "37eb40c3388cfde35488e2d005b0d69ca91ddeff8a429754d4da636d3f888e5e"
    },
    "kernelspec": {
      "display_name": "Python 3.7.6 64-bit ('base': conda)",
      "name": "python3"
    },
    "language_info": {
      "codemirror_mode": {
        "name": "ipython",
        "version": 3
      },
      "file_extension": ".py",
      "mimetype": "text/x-python",
      "name": "python",
      "nbconvert_exporter": "python",
      "pygments_lexer": "ipython3",
      "version": "3.7.6"
    },
    "orig_nbformat": 4,
    "colab": {
      "provenance": [],
      "toc_visible": true
    }
  },
  "nbformat": 4,
  "nbformat_minor": 0
}